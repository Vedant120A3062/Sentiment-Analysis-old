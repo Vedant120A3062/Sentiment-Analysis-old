{
  "metadata": {
    "colab": {
      "provenance": []
    },
    "kernelspec": {
      "name": "python3",
      "display_name": "Python 3",
      "language": "python"
    },
    "language_info": {
      "name": "python",
      "version": "3.7.12",
      "mimetype": "text/x-python",
      "codemirror_mode": {
        "name": "ipython",
        "version": 3
      },
      "pygments_lexer": "ipython3",
      "nbconvert_exporter": "python",
      "file_extension": ".py"
    }
  },
  "nbformat_minor": 0,
  "nbformat": 4,
  "cells": [
    {
      "cell_type": "markdown",
      "source": [
        "Twitter Sentiment Analysis"
      ],
      "metadata": {
        "id": "rBvFDQry6UBF"
      }
    },
    {
      "cell_type": "code",
      "source": [
        "import nltk\n",
        "nltk.download()"
      ],
      "metadata": {
        "colab": {
          "base_uri": "https://localhost:8080/"
        },
        "id": "Ry2g7d1i1P6f",
        "outputId": "30736abe-8c60-42fd-c229-0c0a2df5d7ac",
        "execution": {
          "iopub.status.busy": "2022-12-30T05:39:48.507273Z",
          "iopub.execute_input": "2022-12-30T05:39:48.508493Z",
          "iopub.status.idle": "2022-12-30T05:39:53.988628Z",
          "shell.execute_reply.started": "2022-12-30T05:39:48.508414Z",
          "shell.execute_reply": "2022-12-30T05:39:53.987252Z"
        },
        "trusted": true
      },
      "execution_count": null,
      "outputs": [
        {
          "name": "stdout",
          "output_type": "stream",
          "text": [
            "NLTK Downloader\n",
            "---------------------------------------------------------------------------\n",
            "    d) Download   l) List    u) Update   c) Config   h) Help   q) Quit\n",
            "---------------------------------------------------------------------------\n",
            "Downloader> a\n",
            "Command 'a' unrecognized\n",
            "\n",
            "---------------------------------------------------------------------------\n",
            "    d) Download   l) List    u) Update   c) Config   h) Help   q) Quit\n",
            "---------------------------------------------------------------------------\n",
            "Downloader> d\n",
            "\n",
            "Download which package (l=list; x=cancel)?\n",
            "  Identifier> l\n",
            "Packages:\n",
            "  [ ] abc................. Australian Broadcasting Commission 2006\n",
            "  [ ] alpino.............. Alpino Dutch Treebank\n",
            "  [ ] averaged_perceptron_tagger Averaged Perceptron Tagger\n",
            "  [ ] averaged_perceptron_tagger_ru Averaged Perceptron Tagger (Russian)\n",
            "  [ ] basque_grammars..... Grammars for Basque\n",
            "  [ ] bcp47............... BCP-47 Language Tags\n",
            "  [ ] biocreative_ppi..... BioCreAtIvE (Critical Assessment of Information\n",
            "                           Extraction Systems in Biology)\n",
            "  [ ] bllip_wsj_no_aux.... BLLIP Parser: WSJ Model\n",
            "  [ ] book_grammars....... Grammars from NLTK Book\n",
            "  [ ] brown............... Brown Corpus\n",
            "  [ ] brown_tei........... Brown Corpus (TEI XML Version)\n",
            "  [ ] cess_cat............ CESS-CAT Treebank\n",
            "  [ ] cess_esp............ CESS-ESP Treebank\n",
            "  [ ] chat80.............. Chat-80 Data Files\n",
            "  [ ] city_database....... City Database\n",
            "  [ ] cmudict............. The Carnegie Mellon Pronouncing Dictionary (0.6)\n",
            "  [ ] comparative_sentences Comparative Sentence Dataset\n",
            "  [ ] comtrans............ ComTrans Corpus Sample\n",
            "  [ ] conll2000........... CONLL 2000 Chunking Corpus\n",
            "Hit Enter to continue: \n",
            "  [ ] conll2002........... CONLL 2002 Named Entity Recognition Corpus\n",
            "  [ ] conll2007........... Dependency Treebanks from CoNLL 2007 (Catalan\n",
            "                           and Basque Subset)\n",
            "  [ ] crubadan............ Crubadan Corpus\n",
            "  [ ] dependency_treebank. Dependency Parsed Treebank\n",
            "  [ ] dolch............... Dolch Word List\n",
            "  [ ] europarl_raw........ Sample European Parliament Proceedings Parallel\n",
            "                           Corpus\n",
            "  [ ] extended_omw........ Extended Open Multilingual WordNet\n",
            "  [ ] floresta............ Portuguese Treebank\n",
            "  [ ] framenet_v15........ FrameNet 1.5\n",
            "  [ ] framenet_v17........ FrameNet 1.7\n",
            "  [ ] gazetteers.......... Gazeteer Lists\n",
            "  [ ] genesis............. Genesis Corpus\n",
            "  [ ] gutenberg........... Project Gutenberg Selections\n",
            "  [ ] ieer................ NIST IE-ER DATA SAMPLE\n",
            "  [ ] inaugural........... C-Span Inaugural Address Corpus\n",
            "  [ ] indian.............. Indian Language POS-Tagged Corpus\n",
            "  [ ] jeita............... JEITA Public Morphologically Tagged Corpus (in\n",
            "                           ChaSen format)\n",
            "  [ ] kimmo............... PC-KIMMO Data Files\n",
            "Hit Enter to continue: \n",
            "  [ ] knbc................ KNB Corpus (Annotated blog corpus)\n",
            "  [ ] large_grammars...... Large context-free and feature-based grammars\n",
            "                           for parser comparison\n",
            "  [ ] lin_thesaurus....... Lin's Dependency Thesaurus\n",
            "  [ ] mac_morpho.......... MAC-MORPHO: Brazilian Portuguese news text with\n",
            "                           part-of-speech tags\n",
            "  [ ] machado............. Machado de Assis -- Obra Completa\n",
            "  [ ] masc_tagged......... MASC Tagged Corpus\n",
            "  [ ] maxent_ne_chunker... ACE Named Entity Chunker (Maximum entropy)\n",
            "  [ ] maxent_treebank_pos_tagger Treebank Part of Speech Tagger (Maximum entropy)\n",
            "  [ ] moses_sample........ Moses Sample Models\n",
            "  [ ] movie_reviews....... Sentiment Polarity Dataset Version 2.0\n",
            "  [ ] mte_teip5........... MULTEXT-East 1984 annotated corpus 4.0\n",
            "  [ ] mwa_ppdb............ The monolingual word aligner (Sultan et al.\n",
            "                           2015) subset of the Paraphrase Database.\n",
            "  [ ] names............... Names Corpus, Version 1.3 (1994-03-29)\n",
            "  [ ] nombank.1.0......... NomBank Corpus 1.0\n",
            "  [ ] nonbreaking_prefixes Non-Breaking Prefixes (Moses Decoder)\n",
            "  [ ] nps_chat............ NPS Chat\n",
            "  [ ] omw-1.4............. Open Multilingual Wordnet\n",
            "  [ ] omw................. Open Multilingual Wordnet\n",
            "Hit Enter to continue: \n",
            "  [ ] opinion_lexicon..... Opinion Lexicon\n",
            "  [ ] panlex_swadesh...... PanLex Swadesh Corpora\n",
            "  [ ] paradigms........... Paradigm Corpus\n",
            "  [ ] pe08................ Cross-Framework and Cross-Domain Parser\n",
            "                           Evaluation Shared Task\n",
            "  [ ] perluniprops........ perluniprops: Index of Unicode Version 7.0.0\n",
            "                           character properties in Perl\n",
            "  [ ] pil................. The Patient Information Leaflet (PIL) Corpus\n",
            "  [ ] pl196x.............. Polish language of the XX century sixties\n",
            "  [ ] porter_test......... Porter Stemmer Test Files\n",
            "  [ ] ppattach............ Prepositional Phrase Attachment Corpus\n",
            "  [ ] problem_reports..... Problem Report Corpus\n",
            "  [ ] product_reviews_1... Product Reviews (5 Products)\n",
            "  [ ] product_reviews_2... Product Reviews (9 Products)\n",
            "  [ ] propbank............ Proposition Bank Corpus 1.0\n",
            "  [ ] pros_cons........... Pros and Cons\n",
            "  [ ] ptb................. Penn Treebank\n",
            "  [ ] punkt............... Punkt Tokenizer Models\n",
            "  [ ] qc.................. Experimental Data for Question Classification\n",
            "  [ ] reuters............. The Reuters-21578 benchmark corpus, ApteMod\n",
            "                           version\n",
            "Hit Enter to continue: \n",
            "  [ ] rslp................ RSLP Stemmer (Removedor de Sufixos da Lingua\n",
            "                           Portuguesa)\n",
            "  [ ] rte................. PASCAL RTE Challenges 1, 2, and 3\n",
            "  [ ] sample_grammars..... Sample Grammars\n",
            "  [ ] semcor.............. SemCor 3.0\n",
            "  [ ] senseval............ SENSEVAL 2 Corpus: Sense Tagged Text\n",
            "  [ ] sentence_polarity... Sentence Polarity Dataset v1.0\n",
            "  [ ] sentiwordnet........ SentiWordNet\n",
            "  [ ] shakespeare......... Shakespeare XML Corpus Sample\n",
            "  [ ] sinica_treebank..... Sinica Treebank Corpus Sample\n",
            "  [ ] smultron............ SMULTRON Corpus Sample\n",
            "  [ ] snowball_data....... Snowball Data\n",
            "  [ ] spanish_grammars.... Grammars for Spanish\n",
            "  [ ] state_union......... C-Span State of the Union Address Corpus\n",
            "  [ ] stopwords........... Stopwords Corpus\n",
            "  [ ] subjectivity........ Subjectivity Dataset v1.0\n",
            "  [ ] swadesh............. Swadesh Wordlists\n",
            "  [ ] switchboard......... Switchboard Corpus Sample\n",
            "  [ ] tagsets............. Help on Tagsets\n",
            "  [ ] timit............... TIMIT Corpus Sample\n",
            "  [ ] toolbox............. Toolbox Sample Files\n",
            "Hit Enter to continue: \n",
            "  [ ] treebank............ Penn Treebank Sample\n",
            "  [ ] twitter_samples..... Twitter Samples\n",
            "  [ ] udhr2............... Universal Declaration of Human Rights Corpus\n",
            "                           (Unicode Version)\n",
            "  [ ] udhr................ Universal Declaration of Human Rights Corpus\n",
            "  [ ] unicode_samples..... Unicode Samples\n",
            "  [ ] universal_tagset.... Mappings to the Universal Part-of-Speech Tagset\n",
            "  [ ] universal_treebanks_v20 Universal Treebanks Version 2.0\n",
            "  [ ] vader_lexicon....... VADER Sentiment Lexicon\n",
            "  [ ] verbnet3............ VerbNet Lexicon, Version 3.3\n",
            "  [ ] verbnet............. VerbNet Lexicon, Version 2.1\n",
            "  [ ] webtext............. Web Text Corpus\n",
            "  [ ] wmt15_eval.......... Evaluation data from WMT15\n",
            "  [ ] word2vec_sample..... Word2Vec Sample\n",
            "  [ ] wordnet2021......... Open English Wordnet 2021\n",
            "  [ ] wordnet2022......... Open English Wordnet 2022\n",
            "  [ ] wordnet31........... Wordnet 3.1\n",
            "  [ ] wordnet............. WordNet\n",
            "  [ ] wordnet_ic.......... WordNet-InfoContent\n",
            "  [ ] words............... Word Lists\n",
            "  [ ] ycoe................ York-Toronto-Helsinki Parsed Corpus of Old\n",
            "                           English Prose\n",
            "Hit Enter to continue: \n",
            "\n",
            "Collections:\n",
            "  [ ] all-corpora......... All the corpora\n",
            "  [ ] all-nltk............ All packages available on nltk_data gh-pages\n",
            "                           branch\n",
            "  [ ] all................. All packages\n",
            "  [ ] book................ Everything used in the NLTK Book\n",
            "  [ ] popular............. Popular packages\n",
            "  [ ] tests............... Packages for running tests\n",
            "  [ ] third-party......... Third-party data packages\n",
            "\n",
            "([*] marks installed packages)\n",
            "\n",
            "Download which package (l=list; x=cancel)?\n",
            "  Identifier> \n",
            "\n",
            "---------------------------------------------------------------------------\n",
            "    d) Download   l) List    u) Update   c) Config   h) Help   q) Quit\n",
            "---------------------------------------------------------------------------\n",
            "Downloader> \n",
            "\n",
            "---------------------------------------------------------------------------\n",
            "    d) Download   l) List    u) Update   c) Config   h) Help   q) Quit\n",
            "---------------------------------------------------------------------------\n",
            "Downloader> q\n"
          ]
        },
        {
          "output_type": "execute_result",
          "data": {
            "text/plain": [
              "True"
            ]
          },
          "metadata": {},
          "execution_count": 1
        }
      ]
    },
    {
      "cell_type": "code",
      "source": [
        "import os\n",
        "import numpy as np\n",
        "import pandas as pd\n",
        "import matplotlib.pyplot as plt\n",
        "import seaborn as sns\n",
        "from nltk.corpus import stopwords\n",
        "from string import punctuation\n",
        "from nltk.tokenize import word_tokenize\n",
        "from nltk.stem import LancasterStemmer\n",
        "from string import punctuation\n",
        "from nltk.corpus import stopwords\n",
        "from nltk.tokenize import word_tokenize\n",
        "from nltk.stem import LancasterStemmer\n",
        "from nltk.stem.wordnet import WordNetLemmatizer\n",
        "import re\n",
        "import warnings\n",
        "warnings.filterwarnings('ignore')"
      ],
      "metadata": {
        "id": "6isiiOmcvq0w",
        "execution": {
          "iopub.status.busy": "2022-12-30T05:39:53.992489Z",
          "iopub.execute_input": "2022-12-30T05:39:53.993121Z",
          "iopub.status.idle": "2022-12-30T05:39:54.002524Z",
          "shell.execute_reply.started": "2022-12-30T05:39:53.993086Z",
          "shell.execute_reply": "2022-12-30T05:39:54.000676Z"
        },
        "trusted": true
      },
      "execution_count": null,
      "outputs": []
    },
    {
      "cell_type": "markdown",
      "source": [
        "## Dataset"
      ],
      "metadata": {
        "id": "_0KvgJXu7Sud"
      }
    },
    {
      "cell_type": "code",
      "source": [
        "from google.colab import drive\n",
        "drive.mount(\"/content/gdrive\")"
      ],
      "metadata": {
        "colab": {
          "base_uri": "https://localhost:8080/"
        },
        "id": "r9BPvTduO4PE",
        "outputId": "bab26c4f-afeb-4ec3-a2ad-4bc7ac4c71c4"
      },
      "execution_count": null,
      "outputs": [
        {
          "output_type": "stream",
          "name": "stdout",
          "text": [
            "Mounted at /content/gdrive\n"
          ]
        }
      ]
    },
    {
      "cell_type": "code",
      "source": [
        "df = pd.read_csv('/content/gdrive/MyDrive/Colab Notebooks/ROSPL PRJ/training.1600000.processed.noemoticon.csv',\n",
        "                 delimiter=',', encoding='ISO-8859-1')\n",
        "df.columns = ['Sentiment','id','date','query','user','text']\n",
        "df.head()"
      ],
      "metadata": {
        "colab": {
          "base_uri": "https://localhost:8080/",
          "height": 206
        },
        "id": "m4nkmVjuvwT5",
        "outputId": "8da48bd4-78f7-4838-e57b-97bd2ef4d9ae",
        "execution": {
          "iopub.status.busy": "2022-12-30T05:39:54.005328Z",
          "iopub.execute_input": "2022-12-30T05:39:54.006054Z",
          "iopub.status.idle": "2022-12-30T05:39:57.371846Z",
          "shell.execute_reply.started": "2022-12-30T05:39:54.005973Z",
          "shell.execute_reply": "2022-12-30T05:39:57.370583Z"
        },
        "trusted": true
      },
      "execution_count": null,
      "outputs": [
        {
          "output_type": "execute_result",
          "data": {
            "text/plain": [
              "   Sentiment          id                          date     query  \\\n",
              "0          0  1467810672  Mon Apr 06 22:19:49 PDT 2009  NO_QUERY   \n",
              "1          0  1467810917  Mon Apr 06 22:19:53 PDT 2009  NO_QUERY   \n",
              "2          0  1467811184  Mon Apr 06 22:19:57 PDT 2009  NO_QUERY   \n",
              "3          0  1467811193  Mon Apr 06 22:19:57 PDT 2009  NO_QUERY   \n",
              "4          0  1467811372  Mon Apr 06 22:20:00 PDT 2009  NO_QUERY   \n",
              "\n",
              "            user                                               text  \n",
              "0  scotthamilton  is upset that he can't update his Facebook by ...  \n",
              "1       mattycus  @Kenichan I dived many times for the ball. Man...  \n",
              "2        ElleCTF    my whole body feels itchy and like its on fire   \n",
              "3         Karoli  @nationwideclass no, it's not behaving at all....  \n",
              "4       joy_wolf                      @Kwesidei not the whole crew   "
            ],
            "text/html": [
              "\n",
              "  <div id=\"df-4de76542-994e-4180-8d71-c229432e7de0\" class=\"colab-df-container\">\n",
              "    <div>\n",
              "<style scoped>\n",
              "    .dataframe tbody tr th:only-of-type {\n",
              "        vertical-align: middle;\n",
              "    }\n",
              "\n",
              "    .dataframe tbody tr th {\n",
              "        vertical-align: top;\n",
              "    }\n",
              "\n",
              "    .dataframe thead th {\n",
              "        text-align: right;\n",
              "    }\n",
              "</style>\n",
              "<table border=\"1\" class=\"dataframe\">\n",
              "  <thead>\n",
              "    <tr style=\"text-align: right;\">\n",
              "      <th></th>\n",
              "      <th>Sentiment</th>\n",
              "      <th>id</th>\n",
              "      <th>date</th>\n",
              "      <th>query</th>\n",
              "      <th>user</th>\n",
              "      <th>text</th>\n",
              "    </tr>\n",
              "  </thead>\n",
              "  <tbody>\n",
              "    <tr>\n",
              "      <th>0</th>\n",
              "      <td>0</td>\n",
              "      <td>1467810672</td>\n",
              "      <td>Mon Apr 06 22:19:49 PDT 2009</td>\n",
              "      <td>NO_QUERY</td>\n",
              "      <td>scotthamilton</td>\n",
              "      <td>is upset that he can't update his Facebook by ...</td>\n",
              "    </tr>\n",
              "    <tr>\n",
              "      <th>1</th>\n",
              "      <td>0</td>\n",
              "      <td>1467810917</td>\n",
              "      <td>Mon Apr 06 22:19:53 PDT 2009</td>\n",
              "      <td>NO_QUERY</td>\n",
              "      <td>mattycus</td>\n",
              "      <td>@Kenichan I dived many times for the ball. Man...</td>\n",
              "    </tr>\n",
              "    <tr>\n",
              "      <th>2</th>\n",
              "      <td>0</td>\n",
              "      <td>1467811184</td>\n",
              "      <td>Mon Apr 06 22:19:57 PDT 2009</td>\n",
              "      <td>NO_QUERY</td>\n",
              "      <td>ElleCTF</td>\n",
              "      <td>my whole body feels itchy and like its on fire</td>\n",
              "    </tr>\n",
              "    <tr>\n",
              "      <th>3</th>\n",
              "      <td>0</td>\n",
              "      <td>1467811193</td>\n",
              "      <td>Mon Apr 06 22:19:57 PDT 2009</td>\n",
              "      <td>NO_QUERY</td>\n",
              "      <td>Karoli</td>\n",
              "      <td>@nationwideclass no, it's not behaving at all....</td>\n",
              "    </tr>\n",
              "    <tr>\n",
              "      <th>4</th>\n",
              "      <td>0</td>\n",
              "      <td>1467811372</td>\n",
              "      <td>Mon Apr 06 22:20:00 PDT 2009</td>\n",
              "      <td>NO_QUERY</td>\n",
              "      <td>joy_wolf</td>\n",
              "      <td>@Kwesidei not the whole crew</td>\n",
              "    </tr>\n",
              "  </tbody>\n",
              "</table>\n",
              "</div>\n",
              "    <div class=\"colab-df-buttons\">\n",
              "\n",
              "  <div class=\"colab-df-container\">\n",
              "    <button class=\"colab-df-convert\" onclick=\"convertToInteractive('df-4de76542-994e-4180-8d71-c229432e7de0')\"\n",
              "            title=\"Convert this dataframe to an interactive table.\"\n",
              "            style=\"display:none;\">\n",
              "\n",
              "  <svg xmlns=\"http://www.w3.org/2000/svg\" height=\"24px\" viewBox=\"0 -960 960 960\">\n",
              "    <path d=\"M120-120v-720h720v720H120Zm60-500h600v-160H180v160Zm220 220h160v-160H400v160Zm0 220h160v-160H400v160ZM180-400h160v-160H180v160Zm440 0h160v-160H620v160ZM180-180h160v-160H180v160Zm440 0h160v-160H620v160Z\"/>\n",
              "  </svg>\n",
              "    </button>\n",
              "\n",
              "  <style>\n",
              "    .colab-df-container {\n",
              "      display:flex;\n",
              "      gap: 12px;\n",
              "    }\n",
              "\n",
              "    .colab-df-convert {\n",
              "      background-color: #E8F0FE;\n",
              "      border: none;\n",
              "      border-radius: 50%;\n",
              "      cursor: pointer;\n",
              "      display: none;\n",
              "      fill: #1967D2;\n",
              "      height: 32px;\n",
              "      padding: 0 0 0 0;\n",
              "      width: 32px;\n",
              "    }\n",
              "\n",
              "    .colab-df-convert:hover {\n",
              "      background-color: #E2EBFA;\n",
              "      box-shadow: 0px 1px 2px rgba(60, 64, 67, 0.3), 0px 1px 3px 1px rgba(60, 64, 67, 0.15);\n",
              "      fill: #174EA6;\n",
              "    }\n",
              "\n",
              "    .colab-df-buttons div {\n",
              "      margin-bottom: 4px;\n",
              "    }\n",
              "\n",
              "    [theme=dark] .colab-df-convert {\n",
              "      background-color: #3B4455;\n",
              "      fill: #D2E3FC;\n",
              "    }\n",
              "\n",
              "    [theme=dark] .colab-df-convert:hover {\n",
              "      background-color: #434B5C;\n",
              "      box-shadow: 0px 1px 3px 1px rgba(0, 0, 0, 0.15);\n",
              "      filter: drop-shadow(0px 1px 2px rgba(0, 0, 0, 0.3));\n",
              "      fill: #FFFFFF;\n",
              "    }\n",
              "  </style>\n",
              "\n",
              "    <script>\n",
              "      const buttonEl =\n",
              "        document.querySelector('#df-4de76542-994e-4180-8d71-c229432e7de0 button.colab-df-convert');\n",
              "      buttonEl.style.display =\n",
              "        google.colab.kernel.accessAllowed ? 'block' : 'none';\n",
              "\n",
              "      async function convertToInteractive(key) {\n",
              "        const element = document.querySelector('#df-4de76542-994e-4180-8d71-c229432e7de0');\n",
              "        const dataTable =\n",
              "          await google.colab.kernel.invokeFunction('convertToInteractive',\n",
              "                                                    [key], {});\n",
              "        if (!dataTable) return;\n",
              "\n",
              "        const docLinkHtml = 'Like what you see? Visit the ' +\n",
              "          '<a target=\"_blank\" href=https://colab.research.google.com/notebooks/data_table.ipynb>data table notebook</a>'\n",
              "          + ' to learn more about interactive tables.';\n",
              "        element.innerHTML = '';\n",
              "        dataTable['output_type'] = 'display_data';\n",
              "        await google.colab.output.renderOutput(dataTable, element);\n",
              "        const docLink = document.createElement('div');\n",
              "        docLink.innerHTML = docLinkHtml;\n",
              "        element.appendChild(docLink);\n",
              "      }\n",
              "    </script>\n",
              "  </div>\n",
              "\n",
              "\n",
              "<div id=\"df-7d8afa99-6e49-4a01-ba75-1cece5104a6a\">\n",
              "  <button class=\"colab-df-quickchart\" onclick=\"quickchart('df-7d8afa99-6e49-4a01-ba75-1cece5104a6a')\"\n",
              "            title=\"Suggest charts.\"\n",
              "            style=\"display:none;\">\n",
              "\n",
              "<svg xmlns=\"http://www.w3.org/2000/svg\" height=\"24px\"viewBox=\"0 0 24 24\"\n",
              "     width=\"24px\">\n",
              "    <g>\n",
              "        <path d=\"M19 3H5c-1.1 0-2 .9-2 2v14c0 1.1.9 2 2 2h14c1.1 0 2-.9 2-2V5c0-1.1-.9-2-2-2zM9 17H7v-7h2v7zm4 0h-2V7h2v10zm4 0h-2v-4h2v4z\"/>\n",
              "    </g>\n",
              "</svg>\n",
              "  </button>\n",
              "\n",
              "<style>\n",
              "  .colab-df-quickchart {\n",
              "      --bg-color: #E8F0FE;\n",
              "      --fill-color: #1967D2;\n",
              "      --hover-bg-color: #E2EBFA;\n",
              "      --hover-fill-color: #174EA6;\n",
              "      --disabled-fill-color: #AAA;\n",
              "      --disabled-bg-color: #DDD;\n",
              "  }\n",
              "\n",
              "  [theme=dark] .colab-df-quickchart {\n",
              "      --bg-color: #3B4455;\n",
              "      --fill-color: #D2E3FC;\n",
              "      --hover-bg-color: #434B5C;\n",
              "      --hover-fill-color: #FFFFFF;\n",
              "      --disabled-bg-color: #3B4455;\n",
              "      --disabled-fill-color: #666;\n",
              "  }\n",
              "\n",
              "  .colab-df-quickchart {\n",
              "    background-color: var(--bg-color);\n",
              "    border: none;\n",
              "    border-radius: 50%;\n",
              "    cursor: pointer;\n",
              "    display: none;\n",
              "    fill: var(--fill-color);\n",
              "    height: 32px;\n",
              "    padding: 0;\n",
              "    width: 32px;\n",
              "  }\n",
              "\n",
              "  .colab-df-quickchart:hover {\n",
              "    background-color: var(--hover-bg-color);\n",
              "    box-shadow: 0 1px 2px rgba(60, 64, 67, 0.3), 0 1px 3px 1px rgba(60, 64, 67, 0.15);\n",
              "    fill: var(--button-hover-fill-color);\n",
              "  }\n",
              "\n",
              "  .colab-df-quickchart-complete:disabled,\n",
              "  .colab-df-quickchart-complete:disabled:hover {\n",
              "    background-color: var(--disabled-bg-color);\n",
              "    fill: var(--disabled-fill-color);\n",
              "    box-shadow: none;\n",
              "  }\n",
              "\n",
              "  .colab-df-spinner {\n",
              "    border: 2px solid var(--fill-color);\n",
              "    border-color: transparent;\n",
              "    border-bottom-color: var(--fill-color);\n",
              "    animation:\n",
              "      spin 1s steps(1) infinite;\n",
              "  }\n",
              "\n",
              "  @keyframes spin {\n",
              "    0% {\n",
              "      border-color: transparent;\n",
              "      border-bottom-color: var(--fill-color);\n",
              "      border-left-color: var(--fill-color);\n",
              "    }\n",
              "    20% {\n",
              "      border-color: transparent;\n",
              "      border-left-color: var(--fill-color);\n",
              "      border-top-color: var(--fill-color);\n",
              "    }\n",
              "    30% {\n",
              "      border-color: transparent;\n",
              "      border-left-color: var(--fill-color);\n",
              "      border-top-color: var(--fill-color);\n",
              "      border-right-color: var(--fill-color);\n",
              "    }\n",
              "    40% {\n",
              "      border-color: transparent;\n",
              "      border-right-color: var(--fill-color);\n",
              "      border-top-color: var(--fill-color);\n",
              "    }\n",
              "    60% {\n",
              "      border-color: transparent;\n",
              "      border-right-color: var(--fill-color);\n",
              "    }\n",
              "    80% {\n",
              "      border-color: transparent;\n",
              "      border-right-color: var(--fill-color);\n",
              "      border-bottom-color: var(--fill-color);\n",
              "    }\n",
              "    90% {\n",
              "      border-color: transparent;\n",
              "      border-bottom-color: var(--fill-color);\n",
              "    }\n",
              "  }\n",
              "</style>\n",
              "\n",
              "  <script>\n",
              "    async function quickchart(key) {\n",
              "      const quickchartButtonEl =\n",
              "        document.querySelector('#' + key + ' button');\n",
              "      quickchartButtonEl.disabled = true;  // To prevent multiple clicks.\n",
              "      quickchartButtonEl.classList.add('colab-df-spinner');\n",
              "      try {\n",
              "        const charts = await google.colab.kernel.invokeFunction(\n",
              "            'suggestCharts', [key], {});\n",
              "      } catch (error) {\n",
              "        console.error('Error during call to suggestCharts:', error);\n",
              "      }\n",
              "      quickchartButtonEl.classList.remove('colab-df-spinner');\n",
              "      quickchartButtonEl.classList.add('colab-df-quickchart-complete');\n",
              "    }\n",
              "    (() => {\n",
              "      let quickchartButtonEl =\n",
              "        document.querySelector('#df-7d8afa99-6e49-4a01-ba75-1cece5104a6a button');\n",
              "      quickchartButtonEl.style.display =\n",
              "        google.colab.kernel.accessAllowed ? 'block' : 'none';\n",
              "    })();\n",
              "  </script>\n",
              "</div>\n",
              "    </div>\n",
              "  </div>\n"
            ]
          },
          "metadata": {},
          "execution_count": 9
        }
      ]
    },
    {
      "cell_type": "code",
      "source": [
        "df = df[['Sentiment','text']]"
      ],
      "metadata": {
        "id": "qFrg-zj3yWPC",
        "execution": {
          "iopub.status.busy": "2022-12-30T05:39:57.373371Z",
          "iopub.execute_input": "2022-12-30T05:39:57.373752Z",
          "iopub.status.idle": "2022-12-30T05:39:57.400453Z",
          "shell.execute_reply.started": "2022-12-30T05:39:57.373702Z",
          "shell.execute_reply": "2022-12-30T05:39:57.399268Z"
        },
        "trusted": true
      },
      "execution_count": null,
      "outputs": []
    },
    {
      "cell_type": "code",
      "source": [
        "df.columns"
      ],
      "metadata": {
        "colab": {
          "base_uri": "https://localhost:8080/"
        },
        "id": "AiMGvQigyMyr",
        "outputId": "4032ac1f-15b9-4f0f-e9a8-7c368cb82b1a",
        "execution": {
          "iopub.status.busy": "2022-12-30T05:39:57.403414Z",
          "iopub.execute_input": "2022-12-30T05:39:57.403792Z",
          "iopub.status.idle": "2022-12-30T05:39:57.411897Z",
          "shell.execute_reply.started": "2022-12-30T05:39:57.403759Z",
          "shell.execute_reply": "2022-12-30T05:39:57.410481Z"
        },
        "trusted": true
      },
      "execution_count": null,
      "outputs": [
        {
          "output_type": "execute_result",
          "data": {
            "text/plain": [
              "Index(['Sentiment', 'text'], dtype='object')"
            ]
          },
          "metadata": {},
          "execution_count": 11
        }
      ]
    },
    {
      "cell_type": "code",
      "source": [
        "df.Sentiment.value_counts()"
      ],
      "metadata": {
        "colab": {
          "base_uri": "https://localhost:8080/"
        },
        "id": "PKJSUVefyt5r",
        "outputId": "d930a163-d2b0-48aa-d7ac-9230ffddd0ff",
        "execution": {
          "iopub.status.busy": "2022-12-30T05:39:57.413960Z",
          "iopub.execute_input": "2022-12-30T05:39:57.414590Z",
          "iopub.status.idle": "2022-12-30T05:39:57.441187Z",
          "shell.execute_reply.started": "2022-12-30T05:39:57.414551Z",
          "shell.execute_reply": "2022-12-30T05:39:57.439602Z"
        },
        "trusted": true
      },
      "execution_count": null,
      "outputs": [
        {
          "output_type": "execute_result",
          "data": {
            "text/plain": [
              "0    799996\n",
              "4    248576\n",
              "Name: Sentiment, dtype: int64"
            ]
          },
          "metadata": {},
          "execution_count": 12
        }
      ]
    },
    {
      "cell_type": "code",
      "source": [
        "df['Sentiment'] = df['Sentiment'].replace({4:1})"
      ],
      "metadata": {
        "id": "2Kd26i4-7cF9",
        "execution": {
          "iopub.status.busy": "2022-12-30T05:39:57.444822Z",
          "iopub.execute_input": "2022-12-30T05:39:57.446129Z",
          "iopub.status.idle": "2022-12-30T05:39:57.464206Z",
          "shell.execute_reply.started": "2022-12-30T05:39:57.446070Z",
          "shell.execute_reply": "2022-12-30T05:39:57.463181Z"
        },
        "trusted": true
      },
      "execution_count": null,
      "outputs": []
    },
    {
      "cell_type": "markdown",
      "source": [
        "* 0 represent Negative sentiment\n",
        "* 1 represents Positive sentiment"
      ],
      "metadata": {
        "id": "K2yYnXGj7j5b"
      }
    },
    {
      "cell_type": "markdown",
      "source": [
        "#### Visualizing the count"
      ],
      "metadata": {
        "id": "imSLhWoS7sVJ"
      }
    },
    {
      "cell_type": "code",
      "source": [
        "sns.countplot(df[\"Sentiment\"])\n",
        "plt.title(\"Count Plot of Sentiment\")\n",
        "plt.show()"
      ],
      "metadata": {
        "colab": {
          "base_uri": "https://localhost:8080/",
          "height": 452
        },
        "id": "UF7dC61c0iST",
        "outputId": "ac8f0744-1fc3-424e-aa2f-52952dbd9cc5",
        "execution": {
          "iopub.status.busy": "2022-12-30T05:39:57.466134Z",
          "iopub.execute_input": "2022-12-30T05:39:57.467071Z",
          "iopub.status.idle": "2022-12-30T05:39:57.701891Z",
          "shell.execute_reply.started": "2022-12-30T05:39:57.467005Z",
          "shell.execute_reply": "2022-12-30T05:39:57.700837Z"
        },
        "trusted": true
      },
      "execution_count": null,
      "outputs": [
        {
          "output_type": "display_data",
          "data": {
            "text/plain": [
              "<Figure size 640x480 with 1 Axes>"
            ],
            "image/png": "[encoded data removed]"
          },
          "metadata": {}
        }
      ]
    },
    {
      "cell_type": "code",
      "source": [
        "df.isna().sum().sum()"
      ],
      "metadata": {
        "colab": {
          "base_uri": "https://localhost:8080/"
        },
        "id": "QEU-Prdy9TuN",
        "outputId": "e7cc1d9c-1752-426a-83b3-4ee5b421117f",
        "execution": {
          "iopub.status.busy": "2022-12-30T05:39:57.703596Z",
          "iopub.execute_input": "2022-12-30T05:39:57.704964Z",
          "iopub.status.idle": "2022-12-30T05:39:57.773021Z",
          "shell.execute_reply.started": "2022-12-30T05:39:57.704910Z",
          "shell.execute_reply": "2022-12-30T05:39:57.771632Z"
        },
        "trusted": true
      },
      "execution_count": null,
      "outputs": [
        {
          "output_type": "execute_result",
          "data": {
            "text/plain": [
              "0"
            ]
          },
          "metadata": {},
          "execution_count": 16
        }
      ]
    },
    {
      "cell_type": "markdown",
      "source": [
        "**Inference: The data is unbalanced therfore we will downsample the data to have same count for each sentiment**"
      ],
      "metadata": {
        "id": "AquvrZe177zY"
      }
    },
    {
      "cell_type": "markdown",
      "source": [
        "## Downsampling the dataset"
      ],
      "metadata": {
        "id": "gkIn7qdtz_0P"
      }
    },
    {
      "cell_type": "code",
      "source": [
        "from sklearn.utils import resample"
      ],
      "metadata": {
        "id": "YVb7UCAKz0D1",
        "execution": {
          "iopub.status.busy": "2022-12-30T05:39:57.775297Z",
          "iopub.execute_input": "2022-12-30T05:39:57.776079Z",
          "iopub.status.idle": "2022-12-30T05:39:57.782057Z",
          "shell.execute_reply.started": "2022-12-30T05:39:57.776028Z",
          "shell.execute_reply": "2022-12-30T05:39:57.780499Z"
        },
        "trusted": true
      },
      "execution_count": null,
      "outputs": []
    },
    {
      "cell_type": "code",
      "source": [
        "## majority class 0\n",
        "df_majority = df[df['Sentiment']==0]\n",
        "## minority class 1\n",
        "df_minority = df[df['Sentiment']==1]"
      ],
      "metadata": {
        "id": "mq84twcC0KVv",
        "execution": {
          "iopub.status.busy": "2022-12-30T05:39:57.784594Z",
          "iopub.execute_input": "2022-12-30T05:39:57.785000Z",
          "iopub.status.idle": "2022-12-30T05:39:57.861330Z",
          "shell.execute_reply.started": "2022-12-30T05:39:57.784966Z",
          "shell.execute_reply": "2022-12-30T05:39:57.860174Z"
        },
        "trusted": true
      },
      "execution_count": null,
      "outputs": []
    },
    {
      "cell_type": "code",
      "source": [
        "df_minority.shape"
      ],
      "metadata": {
        "colab": {
          "base_uri": "https://localhost:8080/"
        },
        "id": "16vuY3--0q8v",
        "outputId": "3c68f694-b134-42c7-e746-1303107e6e62",
        "execution": {
          "iopub.status.busy": "2022-12-30T05:39:57.863221Z",
          "iopub.execute_input": "2022-12-30T05:39:57.863680Z",
          "iopub.status.idle": "2022-12-30T05:39:57.870376Z",
          "shell.execute_reply.started": "2022-12-30T05:39:57.863633Z",
          "shell.execute_reply": "2022-12-30T05:39:57.869502Z"
        },
        "trusted": true
      },
      "execution_count": null,
      "outputs": [
        {
          "output_type": "execute_result",
          "data": {
            "text/plain": [
              "(248576, 2)"
            ]
          },
          "metadata": {},
          "execution_count": 19
        }
      ]
    },
    {
      "cell_type": "code",
      "source": [
        "# downsample the majority class\n",
        "df_majority_downsampled = resample(df_majority,\n",
        "                                 replace=False,\n",
        "                                 n_samples=len(df_minority),\n",
        "                                 random_state=1234)"
      ],
      "metadata": {
        "id": "RLhofhRR0gJr",
        "execution": {
          "iopub.status.busy": "2022-12-30T05:39:57.871430Z",
          "iopub.execute_input": "2022-12-30T05:39:57.873012Z",
          "iopub.status.idle": "2022-12-30T05:39:57.954367Z",
          "shell.execute_reply.started": "2022-12-30T05:39:57.872976Z",
          "shell.execute_reply": "2022-12-30T05:39:57.953027Z"
        },
        "trusted": true
      },
      "execution_count": null,
      "outputs": []
    },
    {
      "cell_type": "code",
      "source": [
        "df = df_majority_downsampled.append(df_minority)\n",
        "df.head()"
      ],
      "metadata": {
        "colab": {
          "base_uri": "https://localhost:8080/",
          "height": 206
        },
        "id": "w_vuHw3J0zVf",
        "outputId": "3bab4ea5-0a04-4fa1-b1d9-10b3c6b8c0bb",
        "execution": {
          "iopub.status.busy": "2022-12-30T05:39:57.961243Z",
          "iopub.execute_input": "2022-12-30T05:39:57.961649Z",
          "iopub.status.idle": "2022-12-30T05:39:57.999920Z",
          "shell.execute_reply.started": "2022-12-30T05:39:57.961615Z",
          "shell.execute_reply": "2022-12-30T05:39:57.998765Z"
        },
        "trusted": true
      },
      "execution_count": null,
      "outputs": [
        {
          "output_type": "execute_result",
          "data": {
            "text/plain": [
              "        Sentiment                                               text\n",
              "74567           0  Wow slept for almost 12hours. Sleepy me!! Uni ...\n",
              "668722          0  gets bored with an idea too easily ... like tw...\n",
              "286706          0  To my girls - sorry i've been a homebody latel...\n",
              "632911          0  BK once again for the weekend...If it wasnt fo...\n",
              "356735          0  @DonnieWahlberg Now why didn't you do that las..."
            ],
            "text/html": [
              "\n",
              "  <div id=\"df-c1bc93e0-32cc-4d54-ba76-8676cbbeedb2\" class=\"colab-df-container\">\n",
              "    <div>\n",
              "<style scoped>\n",
              "    .dataframe tbody tr th:only-of-type {\n",
              "        vertical-align: middle;\n",
              "    }\n",
              "\n",
              "    .dataframe tbody tr th {\n",
              "        vertical-align: top;\n",
              "    }\n",
              "\n",
              "    .dataframe thead th {\n",
              "        text-align: right;\n",
              "    }\n",
              "</style>\n",
              "<table border=\"1\" class=\"dataframe\">\n",
              "  <thead>\n",
              "    <tr style=\"text-align: right;\">\n",
              "      <th></th>\n",
              "      <th>Sentiment</th>\n",
              "      <th>text</th>\n",
              "    </tr>\n",
              "  </thead>\n",
              "  <tbody>\n",
              "    <tr>\n",
              "      <th>74567</th>\n",
              "      <td>0</td>\n",
              "      <td>Wow slept for almost 12hours. Sleepy me!! Uni ...</td>\n",
              "    </tr>\n",
              "    <tr>\n",
              "      <th>668722</th>\n",
              "      <td>0</td>\n",
              "      <td>gets bored with an idea too easily ... like tw...</td>\n",
              "    </tr>\n",
              "    <tr>\n",
              "      <th>286706</th>\n",
              "      <td>0</td>\n",
              "      <td>To my girls - sorry i've been a homebody latel...</td>\n",
              "    </tr>\n",
              "    <tr>\n",
              "      <th>632911</th>\n",
              "      <td>0</td>\n",
              "      <td>BK once again for the weekend...If it wasnt fo...</td>\n",
              "    </tr>\n",
              "    <tr>\n",
              "      <th>356735</th>\n",
              "      <td>0</td>\n",
              "      <td>@DonnieWahlberg Now why didn't you do that las...</td>\n",
              "    </tr>\n",
              "  </tbody>\n",
              "</table>\n",
              "</div>\n",
              "    <div class=\"colab-df-buttons\">\n",
              "\n",
              "  <div class=\"colab-df-container\">\n",
              "    <button class=\"colab-df-convert\" onclick=\"convertToInteractive('df-c1bc93e0-32cc-4d54-ba76-8676cbbeedb2')\"\n",
              "            title=\"Convert this dataframe to an interactive table.\"\n",
              "            style=\"display:none;\">\n",
              "\n",
              "  <svg xmlns=\"http://www.w3.org/2000/svg\" height=\"24px\" viewBox=\"0 -960 960 960\">\n",
              "    <path d=\"M120-120v-720h720v720H120Zm60-500h600v-160H180v160Zm220 220h160v-160H400v160Zm0 220h160v-160H400v160ZM180-400h160v-160H180v160Zm440 0h160v-160H620v160ZM180-180h160v-160H180v160Zm440 0h160v-160H620v160Z\"/>\n",
              "  </svg>\n",
              "    </button>\n",
              "\n",
              "  <style>\n",
              "    .colab-df-container {\n",
              "      display:flex;\n",
              "      gap: 12px;\n",
              "    }\n",
              "\n",
              "    .colab-df-convert {\n",
              "      background-color: #E8F0FE;\n",
              "      border: none;\n",
              "      border-radius: 50%;\n",
              "      cursor: pointer;\n",
              "      display: none;\n",
              "      fill: #1967D2;\n",
              "      height: 32px;\n",
              "      padding: 0 0 0 0;\n",
              "      width: 32px;\n",
              "    }\n",
              "\n",
              "    .colab-df-convert:hover {\n",
              "      background-color: #E2EBFA;\n",
              "      box-shadow: 0px 1px 2px rgba(60, 64, 67, 0.3), 0px 1px 3px 1px rgba(60, 64, 67, 0.15);\n",
              "      fill: #174EA6;\n",
              "    }\n",
              "\n",
              "    .colab-df-buttons div {\n",
              "      margin-bottom: 4px;\n",
              "    }\n",
              "\n",
              "    [theme=dark] .colab-df-convert {\n",
              "      background-color: #3B4455;\n",
              "      fill: #D2E3FC;\n",
              "    }\n",
              "\n",
              "    [theme=dark] .colab-df-convert:hover {\n",
              "      background-color: #434B5C;\n",
              "      box-shadow: 0px 1px 3px 1px rgba(0, 0, 0, 0.15);\n",
              "      filter: drop-shadow(0px 1px 2px rgba(0, 0, 0, 0.3));\n",
              "      fill: #FFFFFF;\n",
              "    }\n",
              "  </style>\n",
              "\n",
              "    <script>\n",
              "      const buttonEl =\n",
              "        document.querySelector('#df-c1bc93e0-32cc-4d54-ba76-8676cbbeedb2 button.colab-df-convert');\n",
              "      buttonEl.style.display =\n",
              "        google.colab.kernel.accessAllowed ? 'block' : 'none';\n",
              "\n",
              "      async function convertToInteractive(key) {\n",
              "        const element = document.querySelector('#df-c1bc93e0-32cc-4d54-ba76-8676cbbeedb2');\n",
              "        const dataTable =\n",
              "          await google.colab.kernel.invokeFunction('convertToInteractive',\n",
              "                                                    [key], {});\n",
              "        if (!dataTable) return;\n",
              "\n",
              "        const docLinkHtml = 'Like what you see? Visit the ' +\n",
              "          '<a target=\"_blank\" href=https://colab.research.google.com/notebooks/data_table.ipynb>data table notebook</a>'\n",
              "          + ' to learn more about interactive tables.';\n",
              "        element.innerHTML = '';\n",
              "        dataTable['output_type'] = 'display_data';\n",
              "        await google.colab.output.renderOutput(dataTable, element);\n",
              "        const docLink = document.createElement('div');\n",
              "        docLink.innerHTML = docLinkHtml;\n",
              "        element.appendChild(docLink);\n",
              "      }\n",
              "    </script>\n",
              "  </div>\n",
              "\n",
              "\n",
              "<div id=\"df-f84499bb-4509-4b3f-9a08-95d2e65a1f6e\">\n",
              "  <button class=\"colab-df-quickchart\" onclick=\"quickchart('df-f84499bb-4509-4b3f-9a08-95d2e65a1f6e')\"\n",
              "            title=\"Suggest charts.\"\n",
              "            style=\"display:none;\">\n",
              "\n",
              "<svg xmlns=\"http://www.w3.org/2000/svg\" height=\"24px\"viewBox=\"0 0 24 24\"\n",
              "     width=\"24px\">\n",
              "    <g>\n",
              "        <path d=\"M19 3H5c-1.1 0-2 .9-2 2v14c0 1.1.9 2 2 2h14c1.1 0 2-.9 2-2V5c0-1.1-.9-2-2-2zM9 17H7v-7h2v7zm4 0h-2V7h2v10zm4 0h-2v-4h2v4z\"/>\n",
              "    </g>\n",
              "</svg>\n",
              "  </button>\n",
              "\n",
              "<style>\n",
              "  .colab-df-quickchart {\n",
              "      --bg-color: #E8F0FE;\n",
              "      --fill-color: #1967D2;\n",
              "      --hover-bg-color: #E2EBFA;\n",
              "      --hover-fill-color: #174EA6;\n",
              "      --disabled-fill-color: #AAA;\n",
              "      --disabled-bg-color: #DDD;\n",
              "  }\n",
              "\n",
              "  [theme=dark] .colab-df-quickchart {\n",
              "      --bg-color: #3B4455;\n",
              "      --fill-color: #D2E3FC;\n",
              "      --hover-bg-color: #434B5C;\n",
              "      --hover-fill-color: #FFFFFF;\n",
              "      --disabled-bg-color: #3B4455;\n",
              "      --disabled-fill-color: #666;\n",
              "  }\n",
              "\n",
              "  .colab-df-quickchart {\n",
              "    background-color: var(--bg-color);\n",
              "    border: none;\n",
              "    border-radius: 50%;\n",
              "    cursor: pointer;\n",
              "    display: none;\n",
              "    fill: var(--fill-color);\n",
              "    height: 32px;\n",
              "    padding: 0;\n",
              "    width: 32px;\n",
              "  }\n",
              "\n",
              "  .colab-df-quickchart:hover {\n",
              "    background-color: var(--hover-bg-color);\n",
              "    box-shadow: 0 1px 2px rgba(60, 64, 67, 0.3), 0 1px 3px 1px rgba(60, 64, 67, 0.15);\n",
              "    fill: var(--button-hover-fill-color);\n",
              "  }\n",
              "\n",
              "  .colab-df-quickchart-complete:disabled,\n",
              "  .colab-df-quickchart-complete:disabled:hover {\n",
              "    background-color: var(--disabled-bg-color);\n",
              "    fill: var(--disabled-fill-color);\n",
              "    box-shadow: none;\n",
              "  }\n",
              "\n",
              "  .colab-df-spinner {\n",
              "    border: 2px solid var(--fill-color);\n",
              "    border-color: transparent;\n",
              "    border-bottom-color: var(--fill-color);\n",
              "    animation:\n",
              "      spin 1s steps(1) infinite;\n",
              "  }\n",
              "\n",
              "  @keyframes spin {\n",
              "    0% {\n",
              "      border-color: transparent;\n",
              "      border-bottom-color: var(--fill-color);\n",
              "      border-left-color: var(--fill-color);\n",
              "    }\n",
              "    20% {\n",
              "      border-color: transparent;\n",
              "      border-left-color: var(--fill-color);\n",
              "      border-top-color: var(--fill-color);\n",
              "    }\n",
              "    30% {\n",
              "      border-color: transparent;\n",
              "      border-left-color: var(--fill-color);\n",
              "      border-top-color: var(--fill-color);\n",
              "      border-right-color: var(--fill-color);\n",
              "    }\n",
              "    40% {\n",
              "      border-color: transparent;\n",
              "      border-right-color: var(--fill-color);\n",
              "      border-top-color: var(--fill-color);\n",
              "    }\n",
              "    60% {\n",
              "      border-color: transparent;\n",
              "      border-right-color: var(--fill-color);\n",
              "    }\n",
              "    80% {\n",
              "      border-color: transparent;\n",
              "      border-right-color: var(--fill-color);\n",
              "      border-bottom-color: var(--fill-color);\n",
              "    }\n",
              "    90% {\n",
              "      border-color: transparent;\n",
              "      border-bottom-color: var(--fill-color);\n",
              "    }\n",
              "  }\n",
              "</style>\n",
              "\n",
              "  <script>\n",
              "    async function quickchart(key) {\n",
              "      const quickchartButtonEl =\n",
              "        document.querySelector('#' + key + ' button');\n",
              "      quickchartButtonEl.disabled = true;  // To prevent multiple clicks.\n",
              "      quickchartButtonEl.classList.add('colab-df-spinner');\n",
              "      try {\n",
              "        const charts = await google.colab.kernel.invokeFunction(\n",
              "            'suggestCharts', [key], {});\n",
              "      } catch (error) {\n",
              "        console.error('Error during call to suggestCharts:', error);\n",
              "      }\n",
              "      quickchartButtonEl.classList.remove('colab-df-spinner');\n",
              "      quickchartButtonEl.classList.add('colab-df-quickchart-complete');\n",
              "    }\n",
              "    (() => {\n",
              "      let quickchartButtonEl =\n",
              "        document.querySelector('#df-f84499bb-4509-4b3f-9a08-95d2e65a1f6e button');\n",
              "      quickchartButtonEl.style.display =\n",
              "        google.colab.kernel.accessAllowed ? 'block' : 'none';\n",
              "    })();\n",
              "  </script>\n",
              "</div>\n",
              "    </div>\n",
              "  </div>\n"
            ]
          },
          "metadata": {},
          "execution_count": 21
        }
      ]
    },
    {
      "cell_type": "markdown",
      "source": [
        "#### Visualizing after downsampling\n",
        "\n",
        "248576 data for each class"
      ],
      "metadata": {
        "id": "BfWPsZW8M4Nq"
      }
    },
    {
      "cell_type": "code",
      "source": [
        "sns.countplot(x=\"Sentiment\",data=df)\n",
        "plt.title(\"Count Plot of target class\")\n",
        "plt.show()"
      ],
      "metadata": {
        "colab": {
          "base_uri": "https://localhost:8080/",
          "height": 472
        },
        "id": "EkLmr78e05Tf",
        "outputId": "18dda9f5-6e6e-4d67-cef6-c0c047a37496",
        "execution": {
          "iopub.status.busy": "2022-12-30T05:39:58.001625Z",
          "iopub.execute_input": "2022-12-30T05:39:58.002388Z",
          "iopub.status.idle": "2022-12-30T05:39:58.168623Z",
          "shell.execute_reply.started": "2022-12-30T05:39:58.002352Z",
          "shell.execute_reply": "2022-12-30T05:39:58.167195Z"
        },
        "trusted": true
      },
      "execution_count": null,
      "outputs": [
        {
          "output_type": "display_data",
          "data": {
            "text/plain": [
              "<Figure size 640x480 with 1 Axes>"
            ],
            "image/png": "[encoded data removed]"
          },
          "metadata": {}
        }
      ]
    },
    {
      "cell_type": "markdown",
      "source": [
        "## Data Preprocessing\n",
        "\n",
        "1. removing stop words\n",
        "2. removing punctuations\n",
        "3. Lemmatizing\n",
        "4. removing tags\n",
        "5. removing special characters\n",
        "6. lowercase conversion"
      ],
      "metadata": {
        "id": "-1FcB7fB8fcu"
      }
    },
    {
      "cell_type": "code",
      "source": [
        "import nltk\n",
        "nltk.download('stopwords')\n",
        "nltk.download('wordnet')"
      ],
      "metadata": {
        "colab": {
          "base_uri": "https://localhost:8080/"
        },
        "id": "omyFYTI7TH0Y",
        "outputId": "18ca69e5-7a14-4959-b40e-ac0353f9b51b"
      },
      "execution_count": null,
      "outputs": [
        {
          "output_type": "stream",
          "name": "stderr",
          "text": [
            "[nltk_data] Downloading package stopwords to /root/nltk_data...\n",
            "[nltk_data]   Package stopwords is already up-to-date!\n",
            "[nltk_data] Downloading package wordnet to /root/nltk_data...\n"
          ]
        },
        {
          "output_type": "execute_result",
          "data": {
            "text/plain": [
              "True"
            ]
          },
          "metadata": {},
          "execution_count": 32
        }
      ]
    },
    {
      "cell_type": "code",
      "source": [
        "## remove stopwords and punctuation marks\n",
        "stuff_to_be_removed = list(stopwords.words('english'))+list(punctuation)\n",
        "stemmer = LancasterStemmer()\n",
        "\n",
        "corpus = df['text'].tolist()\n",
        "print(len(corpus))\n",
        "print(corpus[0])"
      ],
      "metadata": {
        "colab": {
          "base_uri": "https://localhost:8080/"
        },
        "id": "QBT3OGSW09Y-",
        "outputId": "4f4c7bbb-5c56-49e5-b90d-87e04d3c8cb5",
        "execution": {
          "iopub.status.busy": "2022-12-30T05:39:58.170429Z",
          "iopub.execute_input": "2022-12-30T05:39:58.170953Z",
          "iopub.status.idle": "2022-12-30T05:39:58.207511Z",
          "shell.execute_reply.started": "2022-12-30T05:39:58.170902Z",
          "shell.execute_reply": "2022-12-30T05:39:58.206541Z"
        },
        "trusted": true
      },
      "execution_count": null,
      "outputs": [
        {
          "output_type": "stream",
          "name": "stdout",
          "text": [
            "497152\n",
            "Wow slept for almost 12hours. Sleepy me!! Uni now, boo! I wanna stay home, drink tea and watch house... \n"
          ]
        }
      ]
    },
    {
      "cell_type": "code",
      "source": [
        "%%time\n",
        "final_corpus = []\n",
        "final_corpus_joined = []\n",
        "for i in df.index:\n",
        "\n",
        "    text = re.sub('[^a-zA-Z]', ' ', df['text'][i])\n",
        "    #Convert to lowercase\n",
        "    text = text.lower()\n",
        "    #remove tags\n",
        "    text=re.sub(\"&lt;/?.*?&gt;\",\" &lt;&gt; \",text)\n",
        "\n",
        "    # remove special characters and digits\n",
        "    text=re.sub(\"(\\\\d|\\\\W)+\",\" \",text)\n",
        "\n",
        "    ##Convert to list from string\n",
        "    text = text.split()\n",
        "\n",
        "    #Lemmatisation\n",
        "    lem = WordNetLemmatizer()\n",
        "    text = [lem.lemmatize(word) for word in text\n",
        "            if not word in stuff_to_be_removed]\n",
        "    text1 = \" \".join(text)\n",
        "    final_corpus.append(text)\n",
        "    final_corpus_joined.append(text1)"
      ],
      "metadata": {
        "colab": {
          "base_uri": "https://localhost:8080/"
        },
        "id": "-dOQ1PyG1LkX",
        "outputId": "049eb866-7542-4e12-f8e9-f19e07e13561",
        "execution": {
          "iopub.status.busy": "2022-12-30T05:39:58.208661Z",
          "iopub.execute_input": "2022-12-30T05:39:58.209925Z",
          "iopub.status.idle": "2022-12-30T05:40:53.146806Z",
          "shell.execute_reply.started": "2022-12-30T05:39:58.209875Z",
          "shell.execute_reply": "2022-12-30T05:40:53.145387Z"
        },
        "trusted": true
      },
      "execution_count": null,
      "outputs": [
        {
          "output_type": "stream",
          "name": "stdout",
          "text": [
            "CPU times: user 59 s, sys: 398 ms, total: 59.4 s\n",
            "Wall time: 1min\n"
          ]
        }
      ]
    },
    {
      "cell_type": "markdown",
      "source": [
        "#### Storing the cleaned data seperately"
      ],
      "metadata": {
        "id": "NQvBFJXp850N"
      }
    },
    {
      "cell_type": "code",
      "source": [
        "data_cleaned = pd.DataFrame()\n",
        "data_cleaned[\"text\"] = final_corpus_joined\n",
        "data_cleaned[\"Sentiment\"] = df[\"Sentiment\"].values"
      ],
      "metadata": {
        "id": "B7y8QQKGiZWB",
        "execution": {
          "iopub.status.busy": "2022-12-30T05:40:53.148307Z",
          "iopub.execute_input": "2022-12-30T05:40:53.148661Z",
          "iopub.status.idle": "2022-12-30T05:40:53.322633Z",
          "shell.execute_reply.started": "2022-12-30T05:40:53.148630Z",
          "shell.execute_reply": "2022-12-30T05:40:53.321545Z"
        },
        "trusted": true
      },
      "execution_count": null,
      "outputs": []
    },
    {
      "cell_type": "code",
      "source": [
        "data_cleaned['Sentiment'].value_counts()"
      ],
      "metadata": {
        "colab": {
          "base_uri": "https://localhost:8080/"
        },
        "id": "eHmMH15c9a-y",
        "outputId": "a2c1c671-e384-4cd3-f340-828915e1d1b1",
        "execution": {
          "iopub.status.busy": "2022-12-30T05:40:53.324183Z",
          "iopub.execute_input": "2022-12-30T05:40:53.325085Z",
          "iopub.status.idle": "2022-12-30T05:40:53.339576Z",
          "shell.execute_reply.started": "2022-12-30T05:40:53.325049Z",
          "shell.execute_reply": "2022-12-30T05:40:53.338317Z"
        },
        "trusted": true
      },
      "execution_count": null,
      "outputs": [
        {
          "output_type": "execute_result",
          "data": {
            "text/plain": [
              "0    248576\n",
              "1    248576\n",
              "Name: Sentiment, dtype: int64"
            ]
          },
          "metadata": {},
          "execution_count": 36
        }
      ]
    },
    {
      "cell_type": "code",
      "source": [
        "data_cleaned.head()"
      ],
      "metadata": {
        "colab": {
          "base_uri": "https://localhost:8080/",
          "height": 206
        },
        "id": "yxJ-NU1UijuH",
        "outputId": "e294ee35-a6a2-4889-e42f-c3af6fab08be",
        "execution": {
          "iopub.status.busy": "2022-12-30T05:40:53.341753Z",
          "iopub.execute_input": "2022-12-30T05:40:53.342306Z",
          "iopub.status.idle": "2022-12-30T05:40:53.354622Z",
          "shell.execute_reply.started": "2022-12-30T05:40:53.342247Z",
          "shell.execute_reply": "2022-12-30T05:40:53.353080Z"
        },
        "trusted": true
      },
      "execution_count": null,
      "outputs": [
        {
          "output_type": "execute_result",
          "data": {
            "text/plain": [
              "                                                text  Sentiment\n",
              "0  wow slept almost hour sleepy uni boo wanna sta...          0\n",
              "1                 get bored idea easily like twitter          0\n",
              "2  girl sorry homebody lately dont feel well does...          0\n",
              "3                     bk weekend wasnt puppy stay as          0\n",
              "4                  donniewahlberg last night atlanta          0"
            ],
            "text/html": [
              "\n",
              "  <div id=\"df-70974539-9ff7-4341-9930-508dca25e353\" class=\"colab-df-container\">\n",
              "    <div>\n",
              "<style scoped>\n",
              "    .dataframe tbody tr th:only-of-type {\n",
              "        vertical-align: middle;\n",
              "    }\n",
              "\n",
              "    .dataframe tbody tr th {\n",
              "        vertical-align: top;\n",
              "    }\n",
              "\n",
              "    .dataframe thead th {\n",
              "        text-align: right;\n",
              "    }\n",
              "</style>\n",
              "<table border=\"1\" class=\"dataframe\">\n",
              "  <thead>\n",
              "    <tr style=\"text-align: right;\">\n",
              "      <th></th>\n",
              "      <th>text</th>\n",
              "      <th>Sentiment</th>\n",
              "    </tr>\n",
              "  </thead>\n",
              "  <tbody>\n",
              "    <tr>\n",
              "      <th>0</th>\n",
              "      <td>wow slept almost hour sleepy uni boo wanna sta...</td>\n",
              "      <td>0</td>\n",
              "    </tr>\n",
              "    <tr>\n",
              "      <th>1</th>\n",
              "      <td>get bored idea easily like twitter</td>\n",
              "      <td>0</td>\n",
              "    </tr>\n",
              "    <tr>\n",
              "      <th>2</th>\n",
              "      <td>girl sorry homebody lately dont feel well does...</td>\n",
              "      <td>0</td>\n",
              "    </tr>\n",
              "    <tr>\n",
              "      <th>3</th>\n",
              "      <td>bk weekend wasnt puppy stay as</td>\n",
              "      <td>0</td>\n",
              "    </tr>\n",
              "    <tr>\n",
              "      <th>4</th>\n",
              "      <td>donniewahlberg last night atlanta</td>\n",
              "      <td>0</td>\n",
              "    </tr>\n",
              "  </tbody>\n",
              "</table>\n",
              "</div>\n",
              "    <div class=\"colab-df-buttons\">\n",
              "\n",
              "  <div class=\"colab-df-container\">\n",
              "    <button class=\"colab-df-convert\" onclick=\"convertToInteractive('df-70974539-9ff7-4341-9930-508dca25e353')\"\n",
              "            title=\"Convert this dataframe to an interactive table.\"\n",
              "            style=\"display:none;\">\n",
              "\n",
              "  <svg xmlns=\"http://www.w3.org/2000/svg\" height=\"24px\" viewBox=\"0 -960 960 960\">\n",
              "    <path d=\"M120-120v-720h720v720H120Zm60-500h600v-160H180v160Zm220 220h160v-160H400v160Zm0 220h160v-160H400v160ZM180-400h160v-160H180v160Zm440 0h160v-160H620v160ZM180-180h160v-160H180v160Zm440 0h160v-160H620v160Z\"/>\n",
              "  </svg>\n",
              "    </button>\n",
              "\n",
              "  <style>\n",
              "    .colab-df-container {\n",
              "      display:flex;\n",
              "      gap: 12px;\n",
              "    }\n",
              "\n",
              "    .colab-df-convert {\n",
              "      background-color: #E8F0FE;\n",
              "      border: none;\n",
              "      border-radius: 50%;\n",
              "      cursor: pointer;\n",
              "      display: none;\n",
              "      fill: #1967D2;\n",
              "      height: 32px;\n",
              "      padding: 0 0 0 0;\n",
              "      width: 32px;\n",
              "    }\n",
              "\n",
              "    .colab-df-convert:hover {\n",
              "      background-color: #E2EBFA;\n",
              "      box-shadow: 0px 1px 2px rgba(60, 64, 67, 0.3), 0px 1px 3px 1px rgba(60, 64, 67, 0.15);\n",
              "      fill: #174EA6;\n",
              "    }\n",
              "\n",
              "    .colab-df-buttons div {\n",
              "      margin-bottom: 4px;\n",
              "    }\n",
              "\n",
              "    [theme=dark] .colab-df-convert {\n",
              "      background-color: #3B4455;\n",
              "      fill: #D2E3FC;\n",
              "    }\n",
              "\n",
              "    [theme=dark] .colab-df-convert:hover {\n",
              "      background-color: #434B5C;\n",
              "      box-shadow: 0px 1px 3px 1px rgba(0, 0, 0, 0.15);\n",
              "      filter: drop-shadow(0px 1px 2px rgba(0, 0, 0, 0.3));\n",
              "      fill: #FFFFFF;\n",
              "    }\n",
              "  </style>\n",
              "\n",
              "    <script>\n",
              "      const buttonEl =\n",
              "        document.querySelector('#df-70974539-9ff7-4341-9930-508dca25e353 button.colab-df-convert');\n",
              "      buttonEl.style.display =\n",
              "        google.colab.kernel.accessAllowed ? 'block' : 'none';\n",
              "\n",
              "      async function convertToInteractive(key) {\n",
              "        const element = document.querySelector('#df-70974539-9ff7-4341-9930-508dca25e353');\n",
              "        const dataTable =\n",
              "          await google.colab.kernel.invokeFunction('convertToInteractive',\n",
              "                                                    [key], {});\n",
              "        if (!dataTable) return;\n",
              "\n",
              "        const docLinkHtml = 'Like what you see? Visit the ' +\n",
              "          '<a target=\"_blank\" href=https://colab.research.google.com/notebooks/data_table.ipynb>data table notebook</a>'\n",
              "          + ' to learn more about interactive tables.';\n",
              "        element.innerHTML = '';\n",
              "        dataTable['output_type'] = 'display_data';\n",
              "        await google.colab.output.renderOutput(dataTable, element);\n",
              "        const docLink = document.createElement('div');\n",
              "        docLink.innerHTML = docLinkHtml;\n",
              "        element.appendChild(docLink);\n",
              "      }\n",
              "    </script>\n",
              "  </div>\n",
              "\n",
              "\n",
              "<div id=\"df-23c6cdc2-247a-4d63-a7b4-1d7355085422\">\n",
              "  <button class=\"colab-df-quickchart\" onclick=\"quickchart('df-23c6cdc2-247a-4d63-a7b4-1d7355085422')\"\n",
              "            title=\"Suggest charts.\"\n",
              "            style=\"display:none;\">\n",
              "\n",
              "<svg xmlns=\"http://www.w3.org/2000/svg\" height=\"24px\"viewBox=\"0 0 24 24\"\n",
              "     width=\"24px\">\n",
              "    <g>\n",
              "        <path d=\"M19 3H5c-1.1 0-2 .9-2 2v14c0 1.1.9 2 2 2h14c1.1 0 2-.9 2-2V5c0-1.1-.9-2-2-2zM9 17H7v-7h2v7zm4 0h-2V7h2v10zm4 0h-2v-4h2v4z\"/>\n",
              "    </g>\n",
              "</svg>\n",
              "  </button>\n",
              "\n",
              "<style>\n",
              "  .colab-df-quickchart {\n",
              "      --bg-color: #E8F0FE;\n",
              "      --fill-color: #1967D2;\n",
              "      --hover-bg-color: #E2EBFA;\n",
              "      --hover-fill-color: #174EA6;\n",
              "      --disabled-fill-color: #AAA;\n",
              "      --disabled-bg-color: #DDD;\n",
              "  }\n",
              "\n",
              "  [theme=dark] .colab-df-quickchart {\n",
              "      --bg-color: #3B4455;\n",
              "      --fill-color: #D2E3FC;\n",
              "      --hover-bg-color: #434B5C;\n",
              "      --hover-fill-color: #FFFFFF;\n",
              "      --disabled-bg-color: #3B4455;\n",
              "      --disabled-fill-color: #666;\n",
              "  }\n",
              "\n",
              "  .colab-df-quickchart {\n",
              "    background-color: var(--bg-color);\n",
              "    border: none;\n",
              "    border-radius: 50%;\n",
              "    cursor: pointer;\n",
              "    display: none;\n",
              "    fill: var(--fill-color);\n",
              "    height: 32px;\n",
              "    padding: 0;\n",
              "    width: 32px;\n",
              "  }\n",
              "\n",
              "  .colab-df-quickchart:hover {\n",
              "    background-color: var(--hover-bg-color);\n",
              "    box-shadow: 0 1px 2px rgba(60, 64, 67, 0.3), 0 1px 3px 1px rgba(60, 64, 67, 0.15);\n",
              "    fill: var(--button-hover-fill-color);\n",
              "  }\n",
              "\n",
              "  .colab-df-quickchart-complete:disabled,\n",
              "  .colab-df-quickchart-complete:disabled:hover {\n",
              "    background-color: var(--disabled-bg-color);\n",
              "    fill: var(--disabled-fill-color);\n",
              "    box-shadow: none;\n",
              "  }\n",
              "\n",
              "  .colab-df-spinner {\n",
              "    border: 2px solid var(--fill-color);\n",
              "    border-color: transparent;\n",
              "    border-bottom-color: var(--fill-color);\n",
              "    animation:\n",
              "      spin 1s steps(1) infinite;\n",
              "  }\n",
              "\n",
              "  @keyframes spin {\n",
              "    0% {\n",
              "      border-color: transparent;\n",
              "      border-bottom-color: var(--fill-color);\n",
              "      border-left-color: var(--fill-color);\n",
              "    }\n",
              "    20% {\n",
              "      border-color: transparent;\n",
              "      border-left-color: var(--fill-color);\n",
              "      border-top-color: var(--fill-color);\n",
              "    }\n",
              "    30% {\n",
              "      border-color: transparent;\n",
              "      border-left-color: var(--fill-color);\n",
              "      border-top-color: var(--fill-color);\n",
              "      border-right-color: var(--fill-color);\n",
              "    }\n",
              "    40% {\n",
              "      border-color: transparent;\n",
              "      border-right-color: var(--fill-color);\n",
              "      border-top-color: var(--fill-color);\n",
              "    }\n",
              "    60% {\n",
              "      border-color: transparent;\n",
              "      border-right-color: var(--fill-color);\n",
              "    }\n",
              "    80% {\n",
              "      border-color: transparent;\n",
              "      border-right-color: var(--fill-color);\n",
              "      border-bottom-color: var(--fill-color);\n",
              "    }\n",
              "    90% {\n",
              "      border-color: transparent;\n",
              "      border-bottom-color: var(--fill-color);\n",
              "    }\n",
              "  }\n",
              "</style>\n",
              "\n",
              "  <script>\n",
              "    async function quickchart(key) {\n",
              "      const quickchartButtonEl =\n",
              "        document.querySelector('#' + key + ' button');\n",
              "      quickchartButtonEl.disabled = true;  // To prevent multiple clicks.\n",
              "      quickchartButtonEl.classList.add('colab-df-spinner');\n",
              "      try {\n",
              "        const charts = await google.colab.kernel.invokeFunction(\n",
              "            'suggestCharts', [key], {});\n",
              "      } catch (error) {\n",
              "        console.error('Error during call to suggestCharts:', error);\n",
              "      }\n",
              "      quickchartButtonEl.classList.remove('colab-df-spinner');\n",
              "      quickchartButtonEl.classList.add('colab-df-quickchart-complete');\n",
              "    }\n",
              "    (() => {\n",
              "      let quickchartButtonEl =\n",
              "        document.querySelector('#df-23c6cdc2-247a-4d63-a7b4-1d7355085422 button');\n",
              "      quickchartButtonEl.style.display =\n",
              "        google.colab.kernel.accessAllowed ? 'block' : 'none';\n",
              "    })();\n",
              "  </script>\n",
              "</div>\n",
              "    </div>\n",
              "  </div>\n"
            ]
          },
          "metadata": {},
          "execution_count": 39
        }
      ]
    },
    {
      "cell_type": "markdown",
      "source": [
        "## EDA"
      ],
      "metadata": {
        "id": "N4sc3F89me2V"
      }
    },
    {
      "cell_type": "code",
      "source": [
        "data_eda = pd.DataFrame()\n",
        "data_eda['text'] = final_corpus\n",
        "data_eda['Sentiment'] = df[\"Sentiment\"].values\n",
        "data_eda.head()"
      ],
      "metadata": {
        "colab": {
          "base_uri": "https://localhost:8080/",
          "height": 206
        },
        "id": "HkJRE3-1iyhg",
        "outputId": "709115df-94a3-4bb3-e44f-6c0d21770038",
        "execution": {
          "iopub.status.busy": "2022-12-30T05:40:53.356964Z",
          "iopub.execute_input": "2022-12-30T05:40:53.357613Z",
          "iopub.status.idle": "2022-12-30T05:40:53.734860Z",
          "shell.execute_reply.started": "2022-12-30T05:40:53.357563Z",
          "shell.execute_reply": "2022-12-30T05:40:53.733621Z"
        },
        "trusted": true
      },
      "execution_count": null,
      "outputs": [
        {
          "output_type": "execute_result",
          "data": {
            "text/plain": [
              "                                                text  Sentiment\n",
              "0  [wow, slept, almost, hour, sleepy, uni, boo, w...          0\n",
              "1          [get, bored, idea, easily, like, twitter]          0\n",
              "2  [girl, sorry, homebody, lately, dont, feel, we...          0\n",
              "3              [bk, weekend, wasnt, puppy, stay, as]          0\n",
              "4             [donniewahlberg, last, night, atlanta]          0"
            ],
            "text/html": [
              "\n",
              "  <div id=\"df-9147cefb-e508-4d7c-be46-25d0c962be1d\" class=\"colab-df-container\">\n",
              "    <div>\n",
              "<style scoped>\n",
              "    .dataframe tbody tr th:only-of-type {\n",
              "        vertical-align: middle;\n",
              "    }\n",
              "\n",
              "    .dataframe tbody tr th {\n",
              "        vertical-align: top;\n",
              "    }\n",
              "\n",
              "    .dataframe thead th {\n",
              "        text-align: right;\n",
              "    }\n",
              "</style>\n",
              "<table border=\"1\" class=\"dataframe\">\n",
              "  <thead>\n",
              "    <tr style=\"text-align: right;\">\n",
              "      <th></th>\n",
              "      <th>text</th>\n",
              "      <th>Sentiment</th>\n",
              "    </tr>\n",
              "  </thead>\n",
              "  <tbody>\n",
              "    <tr>\n",
              "      <th>0</th>\n",
              "      <td>[wow, slept, almost, hour, sleepy, uni, boo, w...</td>\n",
              "      <td>0</td>\n",
              "    </tr>\n",
              "    <tr>\n",
              "      <th>1</th>\n",
              "      <td>[get, bored, idea, easily, like, twitter]</td>\n",
              "      <td>0</td>\n",
              "    </tr>\n",
              "    <tr>\n",
              "      <th>2</th>\n",
              "      <td>[girl, sorry, homebody, lately, dont, feel, we...</td>\n",
              "      <td>0</td>\n",
              "    </tr>\n",
              "    <tr>\n",
              "      <th>3</th>\n",
              "      <td>[bk, weekend, wasnt, puppy, stay, as]</td>\n",
              "      <td>0</td>\n",
              "    </tr>\n",
              "    <tr>\n",
              "      <th>4</th>\n",
              "      <td>[donniewahlberg, last, night, atlanta]</td>\n",
              "      <td>0</td>\n",
              "    </tr>\n",
              "  </tbody>\n",
              "</table>\n",
              "</div>\n",
              "    <div class=\"colab-df-buttons\">\n",
              "\n",
              "  <div class=\"colab-df-container\">\n",
              "    <button class=\"colab-df-convert\" onclick=\"convertToInteractive('df-9147cefb-e508-4d7c-be46-25d0c962be1d')\"\n",
              "            title=\"Convert this dataframe to an interactive table.\"\n",
              "            style=\"display:none;\">\n",
              "\n",
              "  <svg xmlns=\"http://www.w3.org/2000/svg\" height=\"24px\" viewBox=\"0 -960 960 960\">\n",
              "    <path d=\"M120-120v-720h720v720H120Zm60-500h600v-160H180v160Zm220 220h160v-160H400v160Zm0 220h160v-160H400v160ZM180-400h160v-160H180v160Zm440 0h160v-160H620v160ZM180-180h160v-160H180v160Zm440 0h160v-160H620v160Z\"/>\n",
              "  </svg>\n",
              "    </button>\n",
              "\n",
              "  <style>\n",
              "    .colab-df-container {\n",
              "      display:flex;\n",
              "      gap: 12px;\n",
              "    }\n",
              "\n",
              "    .colab-df-convert {\n",
              "      background-color: #E8F0FE;\n",
              "      border: none;\n",
              "      border-radius: 50%;\n",
              "      cursor: pointer;\n",
              "      display: none;\n",
              "      fill: #1967D2;\n",
              "      height: 32px;\n",
              "      padding: 0 0 0 0;\n",
              "      width: 32px;\n",
              "    }\n",
              "\n",
              "    .colab-df-convert:hover {\n",
              "      background-color: #E2EBFA;\n",
              "      box-shadow: 0px 1px 2px rgba(60, 64, 67, 0.3), 0px 1px 3px 1px rgba(60, 64, 67, 0.15);\n",
              "      fill: #174EA6;\n",
              "    }\n",
              "\n",
              "    .colab-df-buttons div {\n",
              "      margin-bottom: 4px;\n",
              "    }\n",
              "\n",
              "    [theme=dark] .colab-df-convert {\n",
              "      background-color: #3B4455;\n",
              "      fill: #D2E3FC;\n",
              "    }\n",
              "\n",
              "    [theme=dark] .colab-df-convert:hover {\n",
              "      background-color: #434B5C;\n",
              "      box-shadow: 0px 1px 3px 1px rgba(0, 0, 0, 0.15);\n",
              "      filter: drop-shadow(0px 1px 2px rgba(0, 0, 0, 0.3));\n",
              "      fill: #FFFFFF;\n",
              "    }\n",
              "  </style>\n",
              "\n",
              "    <script>\n",
              "      const buttonEl =\n",
              "        document.querySelector('#df-9147cefb-e508-4d7c-be46-25d0c962be1d button.colab-df-convert');\n",
              "      buttonEl.style.display =\n",
              "        google.colab.kernel.accessAllowed ? 'block' : 'none';\n",
              "\n",
              "      async function convertToInteractive(key) {\n",
              "        const element = document.querySelector('#df-9147cefb-e508-4d7c-be46-25d0c962be1d');\n",
              "        const dataTable =\n",
              "          await google.colab.kernel.invokeFunction('convertToInteractive',\n",
              "                                                    [key], {});\n",
              "        if (!dataTable) return;\n",
              "\n",
              "        const docLinkHtml = 'Like what you see? Visit the ' +\n",
              "          '<a target=\"_blank\" href=https://colab.research.google.com/notebooks/data_table.ipynb>data table notebook</a>'\n",
              "          + ' to learn more about interactive tables.';\n",
              "        element.innerHTML = '';\n",
              "        dataTable['output_type'] = 'display_data';\n",
              "        await google.colab.output.renderOutput(dataTable, element);\n",
              "        const docLink = document.createElement('div');\n",
              "        docLink.innerHTML = docLinkHtml;\n",
              "        element.appendChild(docLink);\n",
              "      }\n",
              "    </script>\n",
              "  </div>\n",
              "\n",
              "\n",
              "<div id=\"df-3dd98100-cebc-42f7-9eb8-91b8e80e22c7\">\n",
              "  <button class=\"colab-df-quickchart\" onclick=\"quickchart('df-3dd98100-cebc-42f7-9eb8-91b8e80e22c7')\"\n",
              "            title=\"Suggest charts.\"\n",
              "            style=\"display:none;\">\n",
              "\n",
              "<svg xmlns=\"http://www.w3.org/2000/svg\" height=\"24px\"viewBox=\"0 0 24 24\"\n",
              "     width=\"24px\">\n",
              "    <g>\n",
              "        <path d=\"M19 3H5c-1.1 0-2 .9-2 2v14c0 1.1.9 2 2 2h14c1.1 0 2-.9 2-2V5c0-1.1-.9-2-2-2zM9 17H7v-7h2v7zm4 0h-2V7h2v10zm4 0h-2v-4h2v4z\"/>\n",
              "    </g>\n",
              "</svg>\n",
              "  </button>\n",
              "\n",
              "<style>\n",
              "  .colab-df-quickchart {\n",
              "      --bg-color: #E8F0FE;\n",
              "      --fill-color: #1967D2;\n",
              "      --hover-bg-color: #E2EBFA;\n",
              "      --hover-fill-color: #174EA6;\n",
              "      --disabled-fill-color: #AAA;\n",
              "      --disabled-bg-color: #DDD;\n",
              "  }\n",
              "\n",
              "  [theme=dark] .colab-df-quickchart {\n",
              "      --bg-color: #3B4455;\n",
              "      --fill-color: #D2E3FC;\n",
              "      --hover-bg-color: #434B5C;\n",
              "      --hover-fill-color: #FFFFFF;\n",
              "      --disabled-bg-color: #3B4455;\n",
              "      --disabled-fill-color: #666;\n",
              "  }\n",
              "\n",
              "  .colab-df-quickchart {\n",
              "    background-color: var(--bg-color);\n",
              "    border: none;\n",
              "    border-radius: 50%;\n",
              "    cursor: pointer;\n",
              "    display: none;\n",
              "    fill: var(--fill-color);\n",
              "    height: 32px;\n",
              "    padding: 0;\n",
              "    width: 32px;\n",
              "  }\n",
              "\n",
              "  .colab-df-quickchart:hover {\n",
              "    background-color: var(--hover-bg-color);\n",
              "    box-shadow: 0 1px 2px rgba(60, 64, 67, 0.3), 0 1px 3px 1px rgba(60, 64, 67, 0.15);\n",
              "    fill: var(--button-hover-fill-color);\n",
              "  }\n",
              "\n",
              "  .colab-df-quickchart-complete:disabled,\n",
              "  .colab-df-quickchart-complete:disabled:hover {\n",
              "    background-color: var(--disabled-bg-color);\n",
              "    fill: var(--disabled-fill-color);\n",
              "    box-shadow: none;\n",
              "  }\n",
              "\n",
              "  .colab-df-spinner {\n",
              "    border: 2px solid var(--fill-color);\n",
              "    border-color: transparent;\n",
              "    border-bottom-color: var(--fill-color);\n",
              "    animation:\n",
              "      spin 1s steps(1) infinite;\n",
              "  }\n",
              "\n",
              "  @keyframes spin {\n",
              "    0% {\n",
              "      border-color: transparent;\n",
              "      border-bottom-color: var(--fill-color);\n",
              "      border-left-color: var(--fill-color);\n",
              "    }\n",
              "    20% {\n",
              "      border-color: transparent;\n",
              "      border-left-color: var(--fill-color);\n",
              "      border-top-color: var(--fill-color);\n",
              "    }\n",
              "    30% {\n",
              "      border-color: transparent;\n",
              "      border-left-color: var(--fill-color);\n",
              "      border-top-color: var(--fill-color);\n",
              "      border-right-color: var(--fill-color);\n",
              "    }\n",
              "    40% {\n",
              "      border-color: transparent;\n",
              "      border-right-color: var(--fill-color);\n",
              "      border-top-color: var(--fill-color);\n",
              "    }\n",
              "    60% {\n",
              "      border-color: transparent;\n",
              "      border-right-color: var(--fill-color);\n",
              "    }\n",
              "    80% {\n",
              "      border-color: transparent;\n",
              "      border-right-color: var(--fill-color);\n",
              "      border-bottom-color: var(--fill-color);\n",
              "    }\n",
              "    90% {\n",
              "      border-color: transparent;\n",
              "      border-bottom-color: var(--fill-color);\n",
              "    }\n",
              "  }\n",
              "</style>\n",
              "\n",
              "  <script>\n",
              "    async function quickchart(key) {\n",
              "      const quickchartButtonEl =\n",
              "        document.querySelector('#' + key + ' button');\n",
              "      quickchartButtonEl.disabled = true;  // To prevent multiple clicks.\n",
              "      quickchartButtonEl.classList.add('colab-df-spinner');\n",
              "      try {\n",
              "        const charts = await google.colab.kernel.invokeFunction(\n",
              "            'suggestCharts', [key], {});\n",
              "      } catch (error) {\n",
              "        console.error('Error during call to suggestCharts:', error);\n",
              "      }\n",
              "      quickchartButtonEl.classList.remove('colab-df-spinner');\n",
              "      quickchartButtonEl.classList.add('colab-df-quickchart-complete');\n",
              "    }\n",
              "    (() => {\n",
              "      let quickchartButtonEl =\n",
              "        document.querySelector('#df-3dd98100-cebc-42f7-9eb8-91b8e80e22c7 button');\n",
              "      quickchartButtonEl.style.display =\n",
              "        google.colab.kernel.accessAllowed ? 'block' : 'none';\n",
              "    })();\n",
              "  </script>\n",
              "</div>\n",
              "    </div>\n",
              "  </div>\n"
            ]
          },
          "metadata": {},
          "execution_count": 40
        }
      ]
    },
    {
      "cell_type": "code",
      "source": [
        "# Storing positive data seperately\n",
        "positive = data_eda[data_eda['Sentiment'] == 1]\n",
        "positive_list = positive['text'].tolist()\n",
        "\n",
        "# Storing negative data seperately\n",
        "\n",
        "negative = data_eda[data_eda['Sentiment'] == 0]\n",
        "negative_list = negative['text'].tolist()"
      ],
      "metadata": {
        "id": "EmnwOmF4il5P",
        "execution": {
          "iopub.status.busy": "2022-12-30T05:40:53.736810Z",
          "iopub.execute_input": "2022-12-30T05:40:53.737415Z",
          "iopub.status.idle": "2022-12-30T05:40:53.787804Z",
          "shell.execute_reply.started": "2022-12-30T05:40:53.737361Z",
          "shell.execute_reply": "2022-12-30T05:40:53.786804Z"
        },
        "trusted": true
      },
      "execution_count": null,
      "outputs": []
    },
    {
      "cell_type": "code",
      "source": [
        "positive_all = \" \".join([word for sent in positive_list for word in sent ])\n",
        "negative_all = \" \".join([word for sent in negative_list for word in sent ])"
      ],
      "metadata": {
        "id": "wd_vmljtly_1",
        "execution": {
          "iopub.status.busy": "2022-12-30T05:40:53.789342Z",
          "iopub.execute_input": "2022-12-30T05:40:53.790449Z",
          "iopub.status.idle": "2022-12-30T05:40:54.184163Z",
          "shell.execute_reply.started": "2022-12-30T05:40:53.790403Z",
          "shell.execute_reply": "2022-12-30T05:40:54.182911Z"
        },
        "trusted": true
      },
      "execution_count": null,
      "outputs": []
    },
    {
      "cell_type": "markdown",
      "source": [
        "#### One word count"
      ],
      "metadata": {
        "id": "dx7vrsSm-5xU"
      }
    },
    {
      "cell_type": "code",
      "source": [
        "def get_count(data):\n",
        "    dic = {}\n",
        "    for i in data:\n",
        "        for j in i:\n",
        "            if j not in dic:\n",
        "                dic[j]=1\n",
        "            else:\n",
        "                dic[j]+=1\n",
        "\n",
        "    return(dic)\n",
        "count_corpus = get_count(positive_list)"
      ],
      "metadata": {
        "id": "0kyqiHupzRZz",
        "execution": {
          "iopub.status.busy": "2022-12-30T05:41:36.201983Z",
          "iopub.execute_input": "2022-12-30T05:41:36.202626Z",
          "iopub.status.idle": "2022-12-30T05:41:36.868192Z",
          "shell.execute_reply.started": "2022-12-30T05:41:36.202583Z",
          "shell.execute_reply": "2022-12-30T05:41:36.866973Z"
        },
        "trusted": true
      },
      "execution_count": null,
      "outputs": []
    },
    {
      "cell_type": "code",
      "source": [
        "count_corpus = pd.DataFrame({\"word\":count_corpus.keys(),\"count\":count_corpus.values()})\n",
        "count_corpus = count_corpus.sort_values(by = \"count\", ascending = False)"
      ],
      "metadata": {
        "id": "tKi-auPR1iXU",
        "execution": {
          "iopub.status.busy": "2022-12-30T05:41:36.869671Z",
          "iopub.execute_input": "2022-12-30T05:41:36.870034Z",
          "iopub.status.idle": "2022-12-30T05:41:36.981229Z",
          "shell.execute_reply.started": "2022-12-30T05:41:36.870002Z",
          "shell.execute_reply": "2022-12-30T05:41:36.980024Z"
        },
        "trusted": true
      },
      "execution_count": null,
      "outputs": []
    },
    {
      "cell_type": "code",
      "source": [
        "import seaborn as sns\n",
        "plt.figure(figsize = (15,10))\n",
        "sns.barplot(x = count_corpus[\"word\"][:20], y = count_corpus[\"count\"][:20])\n",
        "plt.title('one words in positive data')\n",
        "plt.show()"
      ],
      "metadata": {
        "colab": {
          "base_uri": "https://localhost:8080/",
          "height": 865
        },
        "id": "U1rqx9Vk1kpR",
        "outputId": "bef92d0e-1964-4018-b0d4-6829bf87083b",
        "execution": {
          "iopub.status.busy": "2022-12-30T05:41:36.982653Z",
          "iopub.execute_input": "2022-12-30T05:41:36.983059Z",
          "iopub.status.idle": "2022-12-30T05:41:37.286573Z",
          "shell.execute_reply.started": "2022-12-30T05:41:36.983024Z",
          "shell.execute_reply": "2022-12-30T05:41:37.285335Z"
        },
        "trusted": true
      },
      "execution_count": null,
      "outputs": [
        {
          "output_type": "display_data",
          "data": {
            "text/plain": [
              "<Figure size 1500x1000 with 1 Axes>"
            ],
            "image/png": "[encoded data removed]"
          },
          "metadata": {}
        }
      ]
    },
    {
      "cell_type": "code",
      "source": [
        "def get_count(data):\n",
        "    dic = {}\n",
        "    for i in data:\n",
        "        for j in i:\n",
        "            if j not in dic:\n",
        "                dic[j]=1\n",
        "            else:\n",
        "                dic[j]+=1\n",
        "\n",
        "    #dic = dict(sorted(dic.items() , key = lambda x:x[1],reverse=True))\n",
        "    return(dic)\n",
        "count_corpus = get_count(negative_list)"
      ],
      "metadata": {
        "id": "sGXC-ZW2bU3q",
        "execution": {
          "iopub.status.busy": "2022-12-30T05:41:37.288500Z",
          "iopub.execute_input": "2022-12-30T05:41:37.288991Z",
          "iopub.status.idle": "2022-12-30T05:41:37.880523Z",
          "shell.execute_reply.started": "2022-12-30T05:41:37.288945Z",
          "shell.execute_reply": "2022-12-30T05:41:37.879533Z"
        },
        "trusted": true
      },
      "execution_count": null,
      "outputs": []
    },
    {
      "cell_type": "code",
      "source": [
        "count_corpus = pd.DataFrame({\"word\":count_corpus.keys(),\"count\":count_corpus.values()})\n",
        "count_corpus = count_corpus.sort_values(by = \"count\", ascending = False)"
      ],
      "metadata": {
        "id": "y3dM4ISLbU3r",
        "execution": {
          "iopub.status.busy": "2022-12-30T05:41:37.882075Z",
          "iopub.execute_input": "2022-12-30T05:41:37.882791Z",
          "iopub.status.idle": "2022-12-30T05:41:37.982678Z",
          "shell.execute_reply.started": "2022-12-30T05:41:37.882718Z",
          "shell.execute_reply": "2022-12-30T05:41:37.981392Z"
        },
        "trusted": true
      },
      "execution_count": null,
      "outputs": []
    },
    {
      "cell_type": "code",
      "source": [
        "import seaborn as sns\n",
        "plt.figure(figsize = (15,10))\n",
        "sns.barplot(x = count_corpus[\"word\"][:20], y = count_corpus[\"count\"][:20])\n",
        "plt.title('one words in negative data')\n",
        "plt.show()"
      ],
      "metadata": {
        "colab": {
          "base_uri": "https://localhost:8080/",
          "height": 865
        },
        "outputId": "738804cd-b13f-4c11-da6e-29ccc8d51886",
        "id": "fWyGz3pVbU3r",
        "execution": {
          "iopub.status.busy": "2022-12-30T05:41:37.984491Z",
          "iopub.execute_input": "2022-12-30T05:41:37.985866Z",
          "iopub.status.idle": "2022-12-30T05:41:38.298814Z",
          "shell.execute_reply.started": "2022-12-30T05:41:37.985825Z",
          "shell.execute_reply": "2022-12-30T05:41:38.297819Z"
        },
        "trusted": true
      },
      "execution_count": null,
      "outputs": [
        {
          "output_type": "display_data",
          "data": {
            "text/plain": [
              "<Figure size 1500x1000 with 1 Axes>"
            ],
            "image/png": "[encoded data removed]"
          },
          "metadata": {}
        }
      ]
    },
    {
      "cell_type": "markdown",
      "source": [
        "**Inference**\n",
        "* Positive data has words like good, day, thanks, great, happy\n",
        "* Negative data has words like work, miss, sad etc"
      ],
      "metadata": {
        "id": "bD-flC7j_RAf"
      }
    },
    {
      "cell_type": "markdown",
      "source": [
        "## Classification\n",
        "### Naive bayes for sentiment analysis"
      ],
      "metadata": {
        "id": "N2ffn8hZAQH1"
      }
    },
    {
      "cell_type": "code",
      "source": [
        "def get_tweets_for_model(cleaned_tokens_list):\n",
        "    for tweet_tokens in cleaned_tokens_list:\n",
        "        yield dict([token, True] for token in tweet_tokens)\n",
        "\n",
        "positive_tokens_for_model = get_tweets_for_model(positive_list)\n",
        "negative_tokens_for_model = get_tweets_for_model(negative_list)"
      ],
      "metadata": {
        "id": "RWVjjX1OcY9l",
        "execution": {
          "iopub.status.busy": "2022-12-30T05:41:38.300171Z",
          "iopub.execute_input": "2022-12-30T05:41:38.300858Z",
          "iopub.status.idle": "2022-12-30T05:41:38.307323Z",
          "shell.execute_reply.started": "2022-12-30T05:41:38.300821Z",
          "shell.execute_reply": "2022-12-30T05:41:38.305962Z"
        },
        "trusted": true
      },
      "execution_count": null,
      "outputs": []
    },
    {
      "cell_type": "code",
      "source": [
        "import random\n",
        "\n",
        "positive_dataset = [(review_dict, \"Positive\")\n",
        "                     for review_dict in positive_tokens_for_model]\n",
        "\n",
        "negative_dataset = [(review_dict, \"Negative\")\n",
        "                     for review_dict in negative_tokens_for_model]\n",
        "dataset = positive_dataset + negative_dataset\n",
        "\n",
        "random.shuffle(dataset)\n",
        "\n",
        "train_data = dataset[:333091]\n",
        "test_data = dataset[333091:]\n"
      ],
      "metadata": {
        "id": "DQShZmh3cspj",
        "execution": {
          "iopub.status.busy": "2022-12-30T05:41:38.308848Z",
          "iopub.execute_input": "2022-12-30T05:41:38.309252Z",
          "iopub.status.idle": "2022-12-30T05:41:41.623794Z",
          "shell.execute_reply.started": "2022-12-30T05:41:38.309219Z",
          "shell.execute_reply": "2022-12-30T05:41:41.622204Z"
        },
        "trusted": true
      },
      "execution_count": null,
      "outputs": []
    },
    {
      "cell_type": "code",
      "source": [
        "from nltk import classify\n",
        "from nltk import NaiveBayesClassifier\n",
        "classifier = NaiveBayesClassifier.train(train_data)\n",
        "\n",
        "print(\" Training Accuracy is:\", round(classify.accuracy(classifier, train_data),2)*100)\n",
        "\n",
        "print(\"Testing Accuracy is:\", round(classify.accuracy(classifier, test_data),2)*100)\n",
        "\n",
        "print(classifier.show_most_informative_features(10))"
      ],
      "metadata": {
        "colab": {
          "base_uri": "https://localhost:8080/"
        },
        "id": "OOBrMUVBc5bV",
        "outputId": "96860088-7b63-49c6-becf-33935cdbeac6",
        "execution": {
          "iopub.status.busy": "2022-12-30T05:41:41.625872Z",
          "iopub.execute_input": "2022-12-30T05:41:41.626344Z",
          "iopub.status.idle": "2022-12-30T05:42:26.629083Z",
          "shell.execute_reply.started": "2022-12-30T05:41:41.626295Z",
          "shell.execute_reply": "2022-12-30T05:42:26.627797Z"
        },
        "trusted": true
      },
      "execution_count": null,
      "outputs": [
        {
          "output_type": "stream",
          "name": "stdout",
          "text": [
            " Training Accuracy is: 86.0\n",
            "Testing Accuracy is: 76.0\n",
            "Most Informative Features\n",
            "                    iran = True           Negati : Positi =     90.6 : 1.0\n",
            "                  farrah = True           Negati : Positi =     69.9 : 1.0\n",
            "          peterfacinelli = True           Negati : Positi =     48.5 : 1.0\n",
            "                 saddest = True           Negati : Positi =     35.8 : 1.0\n",
            "                 jackman = True           Positi : Negati =     32.9 : 1.0\n",
            "                hotwords = True           Positi : Negati =     29.6 : 1.0\n",
            "            followfriday = True           Positi : Negati =     29.1 : 1.0\n",
            "          disappointment = True           Negati : Positi =     28.4 : 1.0\n",
            "               upsetting = True           Negati : Positi =     26.4 : 1.0\n",
            "              devastated = True           Negati : Positi =     25.7 : 1.0\n",
            "None\n"
          ]
        }
      ]
    },
    {
      "cell_type": "markdown",
      "source": [
        "### TFIDF for sentiment analysis"
      ],
      "metadata": {
        "id": "jvt-X0ZubmSr"
      }
    },
    {
      "cell_type": "code",
      "source": [
        "from sklearn.feature_extraction.text import TfidfVectorizer\n",
        "tfidf = TfidfVectorizer()\n",
        "vector = tfidf.fit_transform(data_cleaned['text'])\n",
        "y = data_cleaned['Sentiment']"
      ],
      "metadata": {
        "id": "wfvuQLZp3Cv-",
        "execution": {
          "iopub.status.busy": "2022-12-30T05:42:26.631031Z",
          "iopub.execute_input": "2022-12-30T05:42:26.631477Z",
          "iopub.status.idle": "2022-12-30T05:42:33.157084Z",
          "shell.execute_reply.started": "2022-12-30T05:42:26.631432Z",
          "shell.execute_reply": "2022-12-30T05:42:33.156018Z"
        },
        "trusted": true
      },
      "execution_count": null,
      "outputs": []
    },
    {
      "cell_type": "code",
      "source": [
        "from sklearn.model_selection import train_test_split\n",
        "X_train, X_test, y_train, y_test = train_test_split(vector,\n",
        "                                                    y,\n",
        "                                                    test_size=0.33,\n",
        "                                                    random_state=42,\n",
        "                                                    stratify = y)"
      ],
      "metadata": {
        "id": "NKVufIEe20ye",
        "execution": {
          "iopub.status.busy": "2022-12-30T05:42:33.158591Z",
          "iopub.execute_input": "2022-12-30T05:42:33.159677Z",
          "iopub.status.idle": "2022-12-30T05:42:33.412111Z",
          "shell.execute_reply.started": "2022-12-30T05:42:33.159640Z",
          "shell.execute_reply": "2022-12-30T05:42:33.410816Z"
        },
        "trusted": true
      },
      "execution_count": null,
      "outputs": []
    },
    {
      "cell_type": "code",
      "source": [
        "from sklearn.naive_bayes import MultinomialNB\n",
        "from sklearn.svm import LinearSVC\n",
        "from sklearn.metrics import ConfusionMatrixDisplay\n",
        "from sklearn.discriminant_analysis import LinearDiscriminantAnalysis\n",
        "from sklearn.metrics import accuracy_score,confusion_matrix,classification_report\n",
        "from sklearn.linear_model import LogisticRegression"
      ],
      "metadata": {
        "id": "wftKGU-L3Oet",
        "execution": {
          "iopub.status.busy": "2022-12-30T05:42:33.413702Z",
          "iopub.execute_input": "2022-12-30T05:42:33.414114Z",
          "iopub.status.idle": "2022-12-30T05:42:33.420548Z",
          "shell.execute_reply.started": "2022-12-30T05:42:33.414080Z",
          "shell.execute_reply": "2022-12-30T05:42:33.419317Z"
        },
        "trusted": true
      },
      "execution_count": null,
      "outputs": []
    },
    {
      "cell_type": "code",
      "source": [
        "def metrics(y_train,y_train_pred,y_test,y_test_pred):\n",
        "  print(\"training accuracy = \",round(accuracy_score(y_train,y_train_pred),2)*100)\n",
        "  ConfusionMatrixDisplay.from_predictions(y_train,y_train_pred,normalize = 'all')\n",
        "  print(classification_report(y_train,y_train_pred))\n",
        "  plt.show()\n",
        "\n",
        "  print(\"testing accuracy = \",round(accuracy_score(y_test,y_test_pred),2)*100)\n",
        "  ConfusionMatrixDisplay.from_predictions(y_test,y_test_pred,normalize = 'all')\n",
        "  print(classification_report(y_test,y_test_pred))\n",
        "  plt.show()"
      ],
      "metadata": {
        "id": "HuezohML34V7",
        "execution": {
          "iopub.status.busy": "2022-12-30T05:42:33.422028Z",
          "iopub.execute_input": "2022-12-30T05:42:33.422372Z",
          "iopub.status.idle": "2022-12-30T05:42:33.433850Z",
          "shell.execute_reply.started": "2022-12-30T05:42:33.422342Z",
          "shell.execute_reply": "2022-12-30T05:42:33.432577Z"
        },
        "trusted": true
      },
      "execution_count": null,
      "outputs": []
    },
    {
      "cell_type": "markdown",
      "source": [
        "### Multinomial NB"
      ],
      "metadata": {
        "id": "s10OddQvPGyT"
      }
    },
    {
      "cell_type": "code",
      "source": [
        "NB = MultinomialNB()\n",
        "NB.fit(X_train,y_train)\n",
        "y_train_pred = NB.predict(X_train)\n",
        "y_test_pred = NB.predict(X_test)\n",
        "metrics(y_train,y_train_pred,y_test,y_test_pred)"
      ],
      "metadata": {
        "colab": {
          "base_uri": "https://localhost:8080/",
          "height": 1000
        },
        "id": "eTLmcfJA3Vmc",
        "outputId": "31b4ef14-75bd-4094-e823-d5affe7badcf",
        "execution": {
          "iopub.status.busy": "2022-12-30T05:42:33.435907Z",
          "iopub.execute_input": "2022-12-30T05:42:33.437467Z",
          "iopub.status.idle": "2022-12-30T05:42:35.275325Z",
          "shell.execute_reply.started": "2022-12-30T05:42:33.437417Z",
          "shell.execute_reply": "2022-12-30T05:42:35.274387Z"
        },
        "trusted": true
      },
      "execution_count": null,
      "outputs": [
        {
          "output_type": "stream",
          "name": "stdout",
          "text": [
            "training accuracy =  85.0\n",
            "              precision    recall  f1-score   support\n",
            "\n",
            "           0       0.83      0.88      0.85    166545\n",
            "           1       0.87      0.82      0.85    166546\n",
            "\n",
            "    accuracy                           0.85    333091\n",
            "   macro avg       0.85      0.85      0.85    333091\n",
            "weighted avg       0.85      0.85      0.85    333091\n",
            "\n"
          ]
        },
        {
          "output_type": "display_data",
          "data": {
            "text/plain": [
              "<Figure size 640x480 with 2 Axes>"
            ],
            "image/png": "[encoded data removed]"
          },
          "metadata": {}
        },
        {
          "output_type": "stream",
          "name": "stdout",
          "text": [
            "testing accuracy =  76.0\n",
            "              precision    recall  f1-score   support\n",
            "\n",
            "           0       0.75      0.80      0.77     82031\n",
            "           1       0.78      0.73      0.75     82030\n",
            "\n",
            "    accuracy                           0.76    164061\n",
            "   macro avg       0.76      0.76      0.76    164061\n",
            "weighted avg       0.76      0.76      0.76    164061\n",
            "\n"
          ]
        },
        {
          "output_type": "display_data",
          "data": {
            "text/plain": [
              "<Figure size 640x480 with 2 Axes>"
            ],
            "image/png": "[encoded data removed]"
          },
          "metadata": {}
        }
      ]
    },
    {
      "cell_type": "markdown",
      "source": [
        "### Linear SVC"
      ],
      "metadata": {
        "id": "SK3FGVYjPJl8"
      }
    },
    {
      "cell_type": "code",
      "source": [
        "svc = LinearSVC()\n",
        "svc.fit(X_train,y_train)\n",
        "y_train_pred = svc.predict(X_train)\n",
        "y_test_pred = svc.predict(X_test)\n",
        "metrics(y_train,y_train_pred,y_test,y_test_pred)\n"
      ],
      "metadata": {
        "colab": {
          "base_uri": "https://localhost:8080/",
          "height": 1000
        },
        "id": "Tam8hBP_3Ypl",
        "outputId": "92601943-eec4-42ed-fa72-97359a674454",
        "execution": {
          "iopub.status.busy": "2022-12-30T05:42:35.276584Z",
          "iopub.execute_input": "2022-12-30T05:42:35.277813Z",
          "iopub.status.idle": "2022-12-30T05:42:42.717947Z",
          "shell.execute_reply.started": "2022-12-30T05:42:35.277774Z",
          "shell.execute_reply": "2022-12-30T05:42:42.716793Z"
        },
        "trusted": true
      },
      "execution_count": null,
      "outputs": [
        {
          "output_type": "stream",
          "name": "stdout",
          "text": [
            "training accuracy =  90.0\n",
            "              precision    recall  f1-score   support\n",
            "\n",
            "           0       0.90      0.90      0.90    166545\n",
            "           1       0.90      0.90      0.90    166546\n",
            "\n",
            "    accuracy                           0.90    333091\n",
            "   macro avg       0.90      0.90      0.90    333091\n",
            "weighted avg       0.90      0.90      0.90    333091\n",
            "\n"
          ]
        },
        {
          "output_type": "display_data",
          "data": {
            "text/plain": [
              "<Figure size 640x480 with 2 Axes>"
            ],
            "image/png": "[encoded data removed]"
          },
          "metadata": {}
        },
        {
          "output_type": "stream",
          "name": "stdout",
          "text": [
            "testing accuracy =  77.0\n",
            "              precision    recall  f1-score   support\n",
            "\n",
            "           0       0.78      0.76      0.77     82031\n",
            "           1       0.76      0.78      0.77     82030\n",
            "\n",
            "    accuracy                           0.77    164061\n",
            "   macro avg       0.77      0.77      0.77    164061\n",
            "weighted avg       0.77      0.77      0.77    164061\n",
            "\n"
          ]
        },
        {
          "output_type": "display_data",
          "data": {
            "text/plain": [
              "<Figure size 640x480 with 2 Axes>"
            ],
            "image/png": "[encoded data removed]"
          },
          "metadata": {}
        }
      ]
    },
    {
      "cell_type": "markdown",
      "source": [
        "### Logistic regression"
      ],
      "metadata": {
        "id": "8Gmkhvi3PL4m"
      }
    },
    {
      "cell_type": "code",
      "source": [
        "lr = LogisticRegression()\n",
        "lr.fit(X_train,y_train)\n",
        "y_train_pred = lr.predict(X_train)\n",
        "y_test_pred = lr.predict(X_test)\n",
        "metrics(y_train,y_train_pred,y_test,y_test_pred)"
      ],
      "metadata": {
        "id": "GQL85TN34etI",
        "colab": {
          "base_uri": "https://localhost:8080/",
          "height": 1000
        },
        "outputId": "c131d8af-0087-406c-d04d-f66e4c6d0772",
        "execution": {
          "iopub.status.busy": "2022-12-30T05:42:42.723788Z",
          "iopub.execute_input": "2022-12-30T05:42:42.724157Z",
          "iopub.status.idle": "2022-12-30T05:43:03.311322Z",
          "shell.execute_reply.started": "2022-12-30T05:42:42.724124Z",
          "shell.execute_reply": "2022-12-30T05:43:03.310061Z"
        },
        "trusted": true
      },
      "execution_count": null,
      "outputs": [
        {
          "output_type": "stream",
          "name": "stdout",
          "text": [
            "training accuracy =  83.0\n",
            "              precision    recall  f1-score   support\n",
            "\n",
            "           0       0.84      0.81      0.82    166545\n",
            "           1       0.82      0.84      0.83    166546\n",
            "\n",
            "    accuracy                           0.83    333091\n",
            "   macro avg       0.83      0.83      0.83    333091\n",
            "weighted avg       0.83      0.83      0.83    333091\n",
            "\n"
          ]
        },
        {
          "output_type": "display_data",
          "data": {
            "text/plain": [
              "<Figure size 640x480 with 2 Axes>"
            ],
            "image/png": "[encoded data removed]"
          },
          "metadata": {}
        },
        {
          "output_type": "stream",
          "name": "stdout",
          "text": [
            "testing accuracy =  78.0\n",
            "              precision    recall  f1-score   support\n",
            "\n",
            "           0       0.79      0.75      0.77     82031\n",
            "           1       0.77      0.80      0.78     82030\n",
            "\n",
            "    accuracy                           0.78    164061\n",
            "   macro avg       0.78      0.78      0.78    164061\n",
            "weighted avg       0.78      0.78      0.78    164061\n",
            "\n"
          ]
        },
        {
          "output_type": "display_data",
          "data": {
            "text/plain": [
              "<Figure size 640x480 with 2 Axes>"
            ],
            "image/png": "[encoded data removed]"
          },
          "metadata": {}
        }
      ]
    },
    {
      "cell_type": "markdown",
      "source": [
        "## Conclusion\n",
        "\n",
        "|Model|Training Accuracy|Testing Accuracy|\n",
        "|---|---|---|\n",
        "|Naive Bayes|86%|76%|\n",
        "|Multinomial NB| 85%|76%|\n",
        "|linear SVC|90%|77%|\n",
        "|Logistic Regression|83%|78%|\n"
      ],
      "metadata": {
        "id": "h0e4sdQiLf0g"
      }
    },
    {
      "cell_type": "markdown",
      "source": [
        "\n",
        "\n",
        "We see that Logistic regression model performs best with least overfitting as compared to other models and has better performance in testing dataset as well"
      ],
      "metadata": {
        "id": "0thmfOokL1sJ"
      }
    },
    {
      "cell_type": "code",
      "source": [],
      "metadata": {
        "id": "nerAOs0gKkZ1"
      },
      "execution_count": null,
      "outputs": []
    }
  ]
}